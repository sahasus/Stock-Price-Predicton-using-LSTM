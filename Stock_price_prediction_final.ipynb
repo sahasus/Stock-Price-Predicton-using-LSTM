{
  "nbformat": 4,
  "nbformat_minor": 0,
  "metadata": {
    "colab": {
      "name": "Stock_price_prediction_final",
      "provenance": [],
      "authorship_tag": "ABX9TyPyolNJ8cFDH9dVdn434C5D",
      "include_colab_link": true
    },
    "kernelspec": {
      "name": "python3",
      "display_name": "Python 3"
    },
    "language_info": {
      "name": "python"
    }
  },
  "cells": [
    {
      "cell_type": "markdown",
      "metadata": {
        "id": "view-in-github",
        "colab_type": "text"
      },
      "source": [
        "<a href=\"https://colab.research.google.com/github/sahasus/Stock-Price-Predicton-using-LSTM/blob/main/Stock_price_prediction_final.ipynb\" target=\"_parent\"><img src=\"https://colab.research.google.com/assets/colab-badge.svg\" alt=\"Open In Colab\"/></a>"
      ]
    },
    {
      "cell_type": "code",
      "execution_count": null,
      "metadata": {
        "id": "WEFF5yV112Xr"
      },
      "outputs": [],
      "source": [
        "import pandas as pd\n",
        "import plotly.express as px\n",
        "from copy import copy\n",
        "from scipy import stats\n",
        "import matplotlib.pyplot as plt\n",
        "import numpy as np\n",
        "import plotly.figure_factory as ff\n",
        "from sklearn.linear_model import LinearRegression\n",
        "from sklearn.svm import SVR\n",
        "from sklearn.model_selection import train_test_split\n",
        "from sklearn.metrics import r2_score\n",
        "from tensorflow import keras\n",
        "from IPython.core.interactiveshell import InteractiveShell\n",
        "InteractiveShell.ast_node_interactivity = 'all'"
      ]
    },
    {
      "cell_type": "code",
      "source": [
        "from google.colab import files\n",
        "uploaded = files.upload()"
      ],
      "metadata": {
        "colab": {
          "resources": {
            "http://localhost:8080/nbextensions/google.colab/files.js": {
              "data": "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",
              "ok": true,
              "headers": [
                [
                  "content-type",
                  "application/javascript"
                ]
              ],
              "status": 200,
              "status_text": ""
            }
          },
          "base_uri": "https://localhost:8080/",
          "height": 74
        },
        "id": "-NH6VEIS1_KG",
        "outputId": "dcb4694a-2d00-4f55-924f-4d512c313385"
      },
      "execution_count": null,
      "outputs": [
        {
          "output_type": "display_data",
          "data": {
            "text/plain": [
              "<IPython.core.display.HTML object>"
            ],
            "text/html": [
              "\n",
              "     <input type=\"file\" id=\"files-1d35ba98-6ff2-479a-a49b-349b81a627ed\" name=\"files[]\" multiple disabled\n",
              "        style=\"border:none\" />\n",
              "     <output id=\"result-1d35ba98-6ff2-479a-a49b-349b81a627ed\">\n",
              "      Upload widget is only available when the cell has been executed in the\n",
              "      current browser session. Please rerun this cell to enable.\n",
              "      </output>\n",
              "      <script src=\"/nbextensions/google.colab/files.js\"></script> "
            ]
          },
          "metadata": {}
        },
        {
          "output_type": "stream",
          "name": "stdout",
          "text": [
            "Saving stock.csv to stock.csv\n"
          ]
        }
      ]
    },
    {
      "cell_type": "code",
      "source": [
        "import io\n",
        "stock_price_df = pd.read_csv(io.BytesIO(uploaded['stock.csv']))"
      ],
      "metadata": {
        "id": "gP4oj7kn2Ge7"
      },
      "execution_count": null,
      "outputs": []
    },
    {
      "cell_type": "code",
      "source": [
        "stock_price_df = stock_price_df.sort_values(by = ['Date'])\n",
        "stock_price_df"
      ],
      "metadata": {
        "colab": {
          "base_uri": "https://localhost:8080/",
          "height": 423
        },
        "id": "zoBzI_i72Pfg",
        "outputId": "ac233e0d-73b1-48e9-8a89-0b8c56d49c88"
      },
      "execution_count": null,
      "outputs": [
        {
          "output_type": "execute_result",
          "data": {
            "text/plain": [
              "            Date        AAPL          BA          T        MGM         AMZN  \\\n",
              "0     2012-01-12   60.198570   75.510002  30.120001  12.130000   175.929993   \n",
              "1     2012-01-13   59.972858   74.599998  30.070000  12.350000   178.419998   \n",
              "2     2012-01-17   60.671429   75.239998  30.250000  12.250000   181.660004   \n",
              "3     2012-01-18   61.301430   75.059998  30.330000  12.730000   189.440002   \n",
              "4     2012-01-19   61.107143   75.559998  30.420000  12.800000   194.449997   \n",
              "...          ...         ...         ...        ...        ...          ...   \n",
              "2154  2020-08-05  440.250000  174.279999  29.850000  16.719999  3205.030029   \n",
              "2155  2020-08-06  455.609985  172.199997  29.840000  18.459999  3225.000000   \n",
              "2156  2020-08-07  444.450012  170.020004  30.020000  19.030001  3167.459961   \n",
              "2157  2020-08-10  450.910004  179.410004  30.200001  21.650000  3148.159912   \n",
              "2158  2020-08-11  437.500000  180.130005  30.200001  21.500000  3080.669922   \n",
              "\n",
              "             IBM         TSLA         GOOG        sp500  \n",
              "0     180.550003    28.250000   313.644379  1295.500000  \n",
              "1     179.160004    22.790001   311.328064  1289.089966  \n",
              "2     180.000000    26.600000   313.116364  1293.670044  \n",
              "3     181.070007    26.809999   315.273285  1308.040039  \n",
              "4     180.520004    26.760000   318.590851  1314.500000  \n",
              "...          ...          ...          ...          ...  \n",
              "2154  125.449997  1485.020020  1473.609985  3327.770020  \n",
              "2155  126.120003  1489.579956  1500.099976  3349.159912  \n",
              "2156  124.959999  1452.709961  1494.489990  3351.280029  \n",
              "2157  127.110001  1418.569946  1496.099976  3360.469971  \n",
              "2158  126.750000  1374.390015  1480.319946  3333.689941  \n",
              "\n",
              "[2159 rows x 10 columns]"
            ],
            "text/html": [
              "\n",
              "  <div id=\"df-6ecdd248-6811-4dd0-a048-748b1957750c\">\n",
              "    <div class=\"colab-df-container\">\n",
              "      <div>\n",
              "<style scoped>\n",
              "    .dataframe tbody tr th:only-of-type {\n",
              "        vertical-align: middle;\n",
              "    }\n",
              "\n",
              "    .dataframe tbody tr th {\n",
              "        vertical-align: top;\n",
              "    }\n",
              "\n",
              "    .dataframe thead th {\n",
              "        text-align: right;\n",
              "    }\n",
              "</style>\n",
              "<table border=\"1\" class=\"dataframe\">\n",
              "  <thead>\n",
              "    <tr style=\"text-align: right;\">\n",
              "      <th></th>\n",
              "      <th>Date</th>\n",
              "      <th>AAPL</th>\n",
              "      <th>BA</th>\n",
              "      <th>T</th>\n",
              "      <th>MGM</th>\n",
              "      <th>AMZN</th>\n",
              "      <th>IBM</th>\n",
              "      <th>TSLA</th>\n",
              "      <th>GOOG</th>\n",
              "      <th>sp500</th>\n",
              "    </tr>\n",
              "  </thead>\n",
              "  <tbody>\n",
              "    <tr>\n",
              "      <th>0</th>\n",
              "      <td>2012-01-12</td>\n",
              "      <td>60.198570</td>\n",
              "      <td>75.510002</td>\n",
              "      <td>30.120001</td>\n",
              "      <td>12.130000</td>\n",
              "      <td>175.929993</td>\n",
              "      <td>180.550003</td>\n",
              "      <td>28.250000</td>\n",
              "      <td>313.644379</td>\n",
              "      <td>1295.500000</td>\n",
              "    </tr>\n",
              "    <tr>\n",
              "      <th>1</th>\n",
              "      <td>2012-01-13</td>\n",
              "      <td>59.972858</td>\n",
              "      <td>74.599998</td>\n",
              "      <td>30.070000</td>\n",
              "      <td>12.350000</td>\n",
              "      <td>178.419998</td>\n",
              "      <td>179.160004</td>\n",
              "      <td>22.790001</td>\n",
              "      <td>311.328064</td>\n",
              "      <td>1289.089966</td>\n",
              "    </tr>\n",
              "    <tr>\n",
              "      <th>2</th>\n",
              "      <td>2012-01-17</td>\n",
              "      <td>60.671429</td>\n",
              "      <td>75.239998</td>\n",
              "      <td>30.250000</td>\n",
              "      <td>12.250000</td>\n",
              "      <td>181.660004</td>\n",
              "      <td>180.000000</td>\n",
              "      <td>26.600000</td>\n",
              "      <td>313.116364</td>\n",
              "      <td>1293.670044</td>\n",
              "    </tr>\n",
              "    <tr>\n",
              "      <th>3</th>\n",
              "      <td>2012-01-18</td>\n",
              "      <td>61.301430</td>\n",
              "      <td>75.059998</td>\n",
              "      <td>30.330000</td>\n",
              "      <td>12.730000</td>\n",
              "      <td>189.440002</td>\n",
              "      <td>181.070007</td>\n",
              "      <td>26.809999</td>\n",
              "      <td>315.273285</td>\n",
              "      <td>1308.040039</td>\n",
              "    </tr>\n",
              "    <tr>\n",
              "      <th>4</th>\n",
              "      <td>2012-01-19</td>\n",
              "      <td>61.107143</td>\n",
              "      <td>75.559998</td>\n",
              "      <td>30.420000</td>\n",
              "      <td>12.800000</td>\n",
              "      <td>194.449997</td>\n",
              "      <td>180.520004</td>\n",
              "      <td>26.760000</td>\n",
              "      <td>318.590851</td>\n",
              "      <td>1314.500000</td>\n",
              "    </tr>\n",
              "    <tr>\n",
              "      <th>...</th>\n",
              "      <td>...</td>\n",
              "      <td>...</td>\n",
              "      <td>...</td>\n",
              "      <td>...</td>\n",
              "      <td>...</td>\n",
              "      <td>...</td>\n",
              "      <td>...</td>\n",
              "      <td>...</td>\n",
              "      <td>...</td>\n",
              "      <td>...</td>\n",
              "    </tr>\n",
              "    <tr>\n",
              "      <th>2154</th>\n",
              "      <td>2020-08-05</td>\n",
              "      <td>440.250000</td>\n",
              "      <td>174.279999</td>\n",
              "      <td>29.850000</td>\n",
              "      <td>16.719999</td>\n",
              "      <td>3205.030029</td>\n",
              "      <td>125.449997</td>\n",
              "      <td>1485.020020</td>\n",
              "      <td>1473.609985</td>\n",
              "      <td>3327.770020</td>\n",
              "    </tr>\n",
              "    <tr>\n",
              "      <th>2155</th>\n",
              "      <td>2020-08-06</td>\n",
              "      <td>455.609985</td>\n",
              "      <td>172.199997</td>\n",
              "      <td>29.840000</td>\n",
              "      <td>18.459999</td>\n",
              "      <td>3225.000000</td>\n",
              "      <td>126.120003</td>\n",
              "      <td>1489.579956</td>\n",
              "      <td>1500.099976</td>\n",
              "      <td>3349.159912</td>\n",
              "    </tr>\n",
              "    <tr>\n",
              "      <th>2156</th>\n",
              "      <td>2020-08-07</td>\n",
              "      <td>444.450012</td>\n",
              "      <td>170.020004</td>\n",
              "      <td>30.020000</td>\n",
              "      <td>19.030001</td>\n",
              "      <td>3167.459961</td>\n",
              "      <td>124.959999</td>\n",
              "      <td>1452.709961</td>\n",
              "      <td>1494.489990</td>\n",
              "      <td>3351.280029</td>\n",
              "    </tr>\n",
              "    <tr>\n",
              "      <th>2157</th>\n",
              "      <td>2020-08-10</td>\n",
              "      <td>450.910004</td>\n",
              "      <td>179.410004</td>\n",
              "      <td>30.200001</td>\n",
              "      <td>21.650000</td>\n",
              "      <td>3148.159912</td>\n",
              "      <td>127.110001</td>\n",
              "      <td>1418.569946</td>\n",
              "      <td>1496.099976</td>\n",
              "      <td>3360.469971</td>\n",
              "    </tr>\n",
              "    <tr>\n",
              "      <th>2158</th>\n",
              "      <td>2020-08-11</td>\n",
              "      <td>437.500000</td>\n",
              "      <td>180.130005</td>\n",
              "      <td>30.200001</td>\n",
              "      <td>21.500000</td>\n",
              "      <td>3080.669922</td>\n",
              "      <td>126.750000</td>\n",
              "      <td>1374.390015</td>\n",
              "      <td>1480.319946</td>\n",
              "      <td>3333.689941</td>\n",
              "    </tr>\n",
              "  </tbody>\n",
              "</table>\n",
              "<p>2159 rows × 10 columns</p>\n",
              "</div>\n",
              "      <button class=\"colab-df-convert\" onclick=\"convertToInteractive('df-6ecdd248-6811-4dd0-a048-748b1957750c')\"\n",
              "              title=\"Convert this dataframe to an interactive table.\"\n",
              "              style=\"display:none;\">\n",
              "        \n",
              "  <svg xmlns=\"http://www.w3.org/2000/svg\" height=\"24px\"viewBox=\"0 0 24 24\"\n",
              "       width=\"24px\">\n",
              "    <path d=\"M0 0h24v24H0V0z\" fill=\"none\"/>\n",
              "    <path d=\"M18.56 5.44l.94 2.06.94-2.06 2.06-.94-2.06-.94-.94-2.06-.94 2.06-2.06.94zm-11 1L8.5 8.5l.94-2.06 2.06-.94-2.06-.94L8.5 2.5l-.94 2.06-2.06.94zm10 10l.94 2.06.94-2.06 2.06-.94-2.06-.94-.94-2.06-.94 2.06-2.06.94z\"/><path d=\"M17.41 7.96l-1.37-1.37c-.4-.4-.92-.59-1.43-.59-.52 0-1.04.2-1.43.59L10.3 9.45l-7.72 7.72c-.78.78-.78 2.05 0 2.83L4 21.41c.39.39.9.59 1.41.59.51 0 1.02-.2 1.41-.59l7.78-7.78 2.81-2.81c.8-.78.8-2.07 0-2.86zM5.41 20L4 18.59l7.72-7.72 1.47 1.35L5.41 20z\"/>\n",
              "  </svg>\n",
              "      </button>\n",
              "      \n",
              "  <style>\n",
              "    .colab-df-container {\n",
              "      display:flex;\n",
              "      flex-wrap:wrap;\n",
              "      gap: 12px;\n",
              "    }\n",
              "\n",
              "    .colab-df-convert {\n",
              "      background-color: #E8F0FE;\n",
              "      border: none;\n",
              "      border-radius: 50%;\n",
              "      cursor: pointer;\n",
              "      display: none;\n",
              "      fill: #1967D2;\n",
              "      height: 32px;\n",
              "      padding: 0 0 0 0;\n",
              "      width: 32px;\n",
              "    }\n",
              "\n",
              "    .colab-df-convert:hover {\n",
              "      background-color: #E2EBFA;\n",
              "      box-shadow: 0px 1px 2px rgba(60, 64, 67, 0.3), 0px 1px 3px 1px rgba(60, 64, 67, 0.15);\n",
              "      fill: #174EA6;\n",
              "    }\n",
              "\n",
              "    [theme=dark] .colab-df-convert {\n",
              "      background-color: #3B4455;\n",
              "      fill: #D2E3FC;\n",
              "    }\n",
              "\n",
              "    [theme=dark] .colab-df-convert:hover {\n",
              "      background-color: #434B5C;\n",
              "      box-shadow: 0px 1px 3px 1px rgba(0, 0, 0, 0.15);\n",
              "      filter: drop-shadow(0px 1px 2px rgba(0, 0, 0, 0.3));\n",
              "      fill: #FFFFFF;\n",
              "    }\n",
              "  </style>\n",
              "\n",
              "      <script>\n",
              "        const buttonEl =\n",
              "          document.querySelector('#df-6ecdd248-6811-4dd0-a048-748b1957750c button.colab-df-convert');\n",
              "        buttonEl.style.display =\n",
              "          google.colab.kernel.accessAllowed ? 'block' : 'none';\n",
              "\n",
              "        async function convertToInteractive(key) {\n",
              "          const element = document.querySelector('#df-6ecdd248-6811-4dd0-a048-748b1957750c');\n",
              "          const dataTable =\n",
              "            await google.colab.kernel.invokeFunction('convertToInteractive',\n",
              "                                                     [key], {});\n",
              "          if (!dataTable) return;\n",
              "\n",
              "          const docLinkHtml = 'Like what you see? Visit the ' +\n",
              "            '<a target=\"_blank\" href=https://colab.research.google.com/notebooks/data_table.ipynb>data table notebook</a>'\n",
              "            + ' to learn more about interactive tables.';\n",
              "          element.innerHTML = '';\n",
              "          dataTable['output_type'] = 'display_data';\n",
              "          await google.colab.output.renderOutput(dataTable, element);\n",
              "          const docLink = document.createElement('div');\n",
              "          docLink.innerHTML = docLinkHtml;\n",
              "          element.appendChild(docLink);\n",
              "        }\n",
              "      </script>\n",
              "    </div>\n",
              "  </div>\n",
              "  "
            ]
          },
          "metadata": {},
          "execution_count": 4
        }
      ]
    },
    {
      "cell_type": "code",
      "source": [
        "stock_price_df.isnull().sum()"
      ],
      "metadata": {
        "colab": {
          "base_uri": "https://localhost:8080/"
        },
        "id": "LHhiRUF62SAF",
        "outputId": "5e3024a9-ec0e-47a1-e787-82efbfc45acd"
      },
      "execution_count": null,
      "outputs": [
        {
          "output_type": "execute_result",
          "data": {
            "text/plain": [
              "Date     0\n",
              "AAPL     0\n",
              "BA       0\n",
              "T        0\n",
              "MGM      0\n",
              "AMZN     0\n",
              "IBM      0\n",
              "TSLA     0\n",
              "GOOG     0\n",
              "sp500    0\n",
              "dtype: int64"
            ]
          },
          "metadata": {},
          "execution_count": 5
        }
      ]
    },
    {
      "cell_type": "code",
      "source": [
        "stock_price_df.info()"
      ],
      "metadata": {
        "colab": {
          "base_uri": "https://localhost:8080/"
        },
        "id": "6ht4_LBv2Wse",
        "outputId": "a8eae08c-2306-4c6b-9ba3-08ed58d6e51e"
      },
      "execution_count": null,
      "outputs": [
        {
          "output_type": "stream",
          "name": "stdout",
          "text": [
            "<class 'pandas.core.frame.DataFrame'>\n",
            "Int64Index: 2159 entries, 0 to 2158\n",
            "Data columns (total 10 columns):\n",
            " #   Column  Non-Null Count  Dtype  \n",
            "---  ------  --------------  -----  \n",
            " 0   Date    2159 non-null   object \n",
            " 1   AAPL    2159 non-null   float64\n",
            " 2   BA      2159 non-null   float64\n",
            " 3   T       2159 non-null   float64\n",
            " 4   MGM     2159 non-null   float64\n",
            " 5   AMZN    2159 non-null   float64\n",
            " 6   IBM     2159 non-null   float64\n",
            " 7   TSLA    2159 non-null   float64\n",
            " 8   GOOG    2159 non-null   float64\n",
            " 9   sp500   2159 non-null   float64\n",
            "dtypes: float64(9), object(1)\n",
            "memory usage: 185.5+ KB\n"
          ]
        }
      ]
    },
    {
      "cell_type": "code",
      "source": [
        "stock_price_df.describe()"
      ],
      "metadata": {
        "colab": {
          "base_uri": "https://localhost:8080/",
          "height": 300
        },
        "id": "H2PDdEzm2aUQ",
        "outputId": "faec98a5-8c66-436d-f98e-b184374bbdd0"
      },
      "execution_count": null,
      "outputs": [
        {
          "output_type": "execute_result",
          "data": {
            "text/plain": [
              "              AAPL           BA            T          MGM         AMZN  \\\n",
              "count  2159.000000  2159.000000  2159.000000  2159.000000  2159.000000   \n",
              "mean    140.819823   189.942700    35.162899    23.105743   915.665665   \n",
              "std      70.827601   103.678586     3.207490     6.963847   697.838905   \n",
              "min      55.790001    67.239998    26.770000     7.140000   175.929993   \n",
              "25%      89.165714   124.015000    33.040001    18.545000   316.490005   \n",
              "50%     116.599998   142.419998    34.930000    23.780001   676.010010   \n",
              "75%     175.019997   297.044998    37.419998    28.430000  1593.645019   \n",
              "max     455.609985   440.619995    43.470001    38.029999  3225.000000   \n",
              "\n",
              "               IBM         TSLA         GOOG        sp500  \n",
              "count  2159.000000  2159.000000  2159.000000  2159.000000  \n",
              "mean    161.853001   259.600815   783.712512  2218.749554  \n",
              "std      25.561938   210.988003   334.448057   537.321727  \n",
              "min      94.769997    22.790001   278.481171  1278.040039  \n",
              "25%     142.769997   184.595001   527.214416  1847.984985  \n",
              "50%     156.949997   231.960007   737.599976  2106.629883  \n",
              "75%     185.974998   307.350006  1079.744995  2705.810059  \n",
              "max     215.800003  1643.000000  1568.489990  3386.149902  "
            ],
            "text/html": [
              "\n",
              "  <div id=\"df-661ee1c8-6c51-47b7-b66c-1f46ab4addea\">\n",
              "    <div class=\"colab-df-container\">\n",
              "      <div>\n",
              "<style scoped>\n",
              "    .dataframe tbody tr th:only-of-type {\n",
              "        vertical-align: middle;\n",
              "    }\n",
              "\n",
              "    .dataframe tbody tr th {\n",
              "        vertical-align: top;\n",
              "    }\n",
              "\n",
              "    .dataframe thead th {\n",
              "        text-align: right;\n",
              "    }\n",
              "</style>\n",
              "<table border=\"1\" class=\"dataframe\">\n",
              "  <thead>\n",
              "    <tr style=\"text-align: right;\">\n",
              "      <th></th>\n",
              "      <th>AAPL</th>\n",
              "      <th>BA</th>\n",
              "      <th>T</th>\n",
              "      <th>MGM</th>\n",
              "      <th>AMZN</th>\n",
              "      <th>IBM</th>\n",
              "      <th>TSLA</th>\n",
              "      <th>GOOG</th>\n",
              "      <th>sp500</th>\n",
              "    </tr>\n",
              "  </thead>\n",
              "  <tbody>\n",
              "    <tr>\n",
              "      <th>count</th>\n",
              "      <td>2159.000000</td>\n",
              "      <td>2159.000000</td>\n",
              "      <td>2159.000000</td>\n",
              "      <td>2159.000000</td>\n",
              "      <td>2159.000000</td>\n",
              "      <td>2159.000000</td>\n",
              "      <td>2159.000000</td>\n",
              "      <td>2159.000000</td>\n",
              "      <td>2159.000000</td>\n",
              "    </tr>\n",
              "    <tr>\n",
              "      <th>mean</th>\n",
              "      <td>140.819823</td>\n",
              "      <td>189.942700</td>\n",
              "      <td>35.162899</td>\n",
              "      <td>23.105743</td>\n",
              "      <td>915.665665</td>\n",
              "      <td>161.853001</td>\n",
              "      <td>259.600815</td>\n",
              "      <td>783.712512</td>\n",
              "      <td>2218.749554</td>\n",
              "    </tr>\n",
              "    <tr>\n",
              "      <th>std</th>\n",
              "      <td>70.827601</td>\n",
              "      <td>103.678586</td>\n",
              "      <td>3.207490</td>\n",
              "      <td>6.963847</td>\n",
              "      <td>697.838905</td>\n",
              "      <td>25.561938</td>\n",
              "      <td>210.988003</td>\n",
              "      <td>334.448057</td>\n",
              "      <td>537.321727</td>\n",
              "    </tr>\n",
              "    <tr>\n",
              "      <th>min</th>\n",
              "      <td>55.790001</td>\n",
              "      <td>67.239998</td>\n",
              "      <td>26.770000</td>\n",
              "      <td>7.140000</td>\n",
              "      <td>175.929993</td>\n",
              "      <td>94.769997</td>\n",
              "      <td>22.790001</td>\n",
              "      <td>278.481171</td>\n",
              "      <td>1278.040039</td>\n",
              "    </tr>\n",
              "    <tr>\n",
              "      <th>25%</th>\n",
              "      <td>89.165714</td>\n",
              "      <td>124.015000</td>\n",
              "      <td>33.040001</td>\n",
              "      <td>18.545000</td>\n",
              "      <td>316.490005</td>\n",
              "      <td>142.769997</td>\n",
              "      <td>184.595001</td>\n",
              "      <td>527.214416</td>\n",
              "      <td>1847.984985</td>\n",
              "    </tr>\n",
              "    <tr>\n",
              "      <th>50%</th>\n",
              "      <td>116.599998</td>\n",
              "      <td>142.419998</td>\n",
              "      <td>34.930000</td>\n",
              "      <td>23.780001</td>\n",
              "      <td>676.010010</td>\n",
              "      <td>156.949997</td>\n",
              "      <td>231.960007</td>\n",
              "      <td>737.599976</td>\n",
              "      <td>2106.629883</td>\n",
              "    </tr>\n",
              "    <tr>\n",
              "      <th>75%</th>\n",
              "      <td>175.019997</td>\n",
              "      <td>297.044998</td>\n",
              "      <td>37.419998</td>\n",
              "      <td>28.430000</td>\n",
              "      <td>1593.645019</td>\n",
              "      <td>185.974998</td>\n",
              "      <td>307.350006</td>\n",
              "      <td>1079.744995</td>\n",
              "      <td>2705.810059</td>\n",
              "    </tr>\n",
              "    <tr>\n",
              "      <th>max</th>\n",
              "      <td>455.609985</td>\n",
              "      <td>440.619995</td>\n",
              "      <td>43.470001</td>\n",
              "      <td>38.029999</td>\n",
              "      <td>3225.000000</td>\n",
              "      <td>215.800003</td>\n",
              "      <td>1643.000000</td>\n",
              "      <td>1568.489990</td>\n",
              "      <td>3386.149902</td>\n",
              "    </tr>\n",
              "  </tbody>\n",
              "</table>\n",
              "</div>\n",
              "      <button class=\"colab-df-convert\" onclick=\"convertToInteractive('df-661ee1c8-6c51-47b7-b66c-1f46ab4addea')\"\n",
              "              title=\"Convert this dataframe to an interactive table.\"\n",
              "              style=\"display:none;\">\n",
              "        \n",
              "  <svg xmlns=\"http://www.w3.org/2000/svg\" height=\"24px\"viewBox=\"0 0 24 24\"\n",
              "       width=\"24px\">\n",
              "    <path d=\"M0 0h24v24H0V0z\" fill=\"none\"/>\n",
              "    <path d=\"M18.56 5.44l.94 2.06.94-2.06 2.06-.94-2.06-.94-.94-2.06-.94 2.06-2.06.94zm-11 1L8.5 8.5l.94-2.06 2.06-.94-2.06-.94L8.5 2.5l-.94 2.06-2.06.94zm10 10l.94 2.06.94-2.06 2.06-.94-2.06-.94-.94-2.06-.94 2.06-2.06.94z\"/><path d=\"M17.41 7.96l-1.37-1.37c-.4-.4-.92-.59-1.43-.59-.52 0-1.04.2-1.43.59L10.3 9.45l-7.72 7.72c-.78.78-.78 2.05 0 2.83L4 21.41c.39.39.9.59 1.41.59.51 0 1.02-.2 1.41-.59l7.78-7.78 2.81-2.81c.8-.78.8-2.07 0-2.86zM5.41 20L4 18.59l7.72-7.72 1.47 1.35L5.41 20z\"/>\n",
              "  </svg>\n",
              "      </button>\n",
              "      \n",
              "  <style>\n",
              "    .colab-df-container {\n",
              "      display:flex;\n",
              "      flex-wrap:wrap;\n",
              "      gap: 12px;\n",
              "    }\n",
              "\n",
              "    .colab-df-convert {\n",
              "      background-color: #E8F0FE;\n",
              "      border: none;\n",
              "      border-radius: 50%;\n",
              "      cursor: pointer;\n",
              "      display: none;\n",
              "      fill: #1967D2;\n",
              "      height: 32px;\n",
              "      padding: 0 0 0 0;\n",
              "      width: 32px;\n",
              "    }\n",
              "\n",
              "    .colab-df-convert:hover {\n",
              "      background-color: #E2EBFA;\n",
              "      box-shadow: 0px 1px 2px rgba(60, 64, 67, 0.3), 0px 1px 3px 1px rgba(60, 64, 67, 0.15);\n",
              "      fill: #174EA6;\n",
              "    }\n",
              "\n",
              "    [theme=dark] .colab-df-convert {\n",
              "      background-color: #3B4455;\n",
              "      fill: #D2E3FC;\n",
              "    }\n",
              "\n",
              "    [theme=dark] .colab-df-convert:hover {\n",
              "      background-color: #434B5C;\n",
              "      box-shadow: 0px 1px 3px 1px rgba(0, 0, 0, 0.15);\n",
              "      filter: drop-shadow(0px 1px 2px rgba(0, 0, 0, 0.3));\n",
              "      fill: #FFFFFF;\n",
              "    }\n",
              "  </style>\n",
              "\n",
              "      <script>\n",
              "        const buttonEl =\n",
              "          document.querySelector('#df-661ee1c8-6c51-47b7-b66c-1f46ab4addea button.colab-df-convert');\n",
              "        buttonEl.style.display =\n",
              "          google.colab.kernel.accessAllowed ? 'block' : 'none';\n",
              "\n",
              "        async function convertToInteractive(key) {\n",
              "          const element = document.querySelector('#df-661ee1c8-6c51-47b7-b66c-1f46ab4addea');\n",
              "          const dataTable =\n",
              "            await google.colab.kernel.invokeFunction('convertToInteractive',\n",
              "                                                     [key], {});\n",
              "          if (!dataTable) return;\n",
              "\n",
              "          const docLinkHtml = 'Like what you see? Visit the ' +\n",
              "            '<a target=\"_blank\" href=https://colab.research.google.com/notebooks/data_table.ipynb>data table notebook</a>'\n",
              "            + ' to learn more about interactive tables.';\n",
              "          element.innerHTML = '';\n",
              "          dataTable['output_type'] = 'display_data';\n",
              "          await google.colab.output.renderOutput(dataTable, element);\n",
              "          const docLink = document.createElement('div');\n",
              "          docLink.innerHTML = docLinkHtml;\n",
              "          element.appendChild(docLink);\n",
              "        }\n",
              "      </script>\n",
              "    </div>\n",
              "  </div>\n",
              "  "
            ]
          },
          "metadata": {},
          "execution_count": 7
        }
      ]
    },
    {
      "cell_type": "code",
      "source": [
        "stock_new_df=pd.DataFrame({'Date': stock_price_df['Date'], 'Close': stock_price_df['sp500']})\n",
        "stock_new_df"
      ],
      "metadata": {
        "colab": {
          "base_uri": "https://localhost:8080/",
          "height": 423
        },
        "id": "Umxd6uH82f8u",
        "outputId": "db3c45e8-304d-4567-bd58-569b3407ca7a"
      },
      "execution_count": null,
      "outputs": [
        {
          "output_type": "execute_result",
          "data": {
            "text/plain": [
              "            Date        Close\n",
              "0     2012-01-12  1295.500000\n",
              "1     2012-01-13  1289.089966\n",
              "2     2012-01-17  1293.670044\n",
              "3     2012-01-18  1308.040039\n",
              "4     2012-01-19  1314.500000\n",
              "...          ...          ...\n",
              "2154  2020-08-05  3327.770020\n",
              "2155  2020-08-06  3349.159912\n",
              "2156  2020-08-07  3351.280029\n",
              "2157  2020-08-10  3360.469971\n",
              "2158  2020-08-11  3333.689941\n",
              "\n",
              "[2159 rows x 2 columns]"
            ],
            "text/html": [
              "\n",
              "  <div id=\"df-fed9317d-b98a-4ab6-98a0-2118bc17a379\">\n",
              "    <div class=\"colab-df-container\">\n",
              "      <div>\n",
              "<style scoped>\n",
              "    .dataframe tbody tr th:only-of-type {\n",
              "        vertical-align: middle;\n",
              "    }\n",
              "\n",
              "    .dataframe tbody tr th {\n",
              "        vertical-align: top;\n",
              "    }\n",
              "\n",
              "    .dataframe thead th {\n",
              "        text-align: right;\n",
              "    }\n",
              "</style>\n",
              "<table border=\"1\" class=\"dataframe\">\n",
              "  <thead>\n",
              "    <tr style=\"text-align: right;\">\n",
              "      <th></th>\n",
              "      <th>Date</th>\n",
              "      <th>Close</th>\n",
              "    </tr>\n",
              "  </thead>\n",
              "  <tbody>\n",
              "    <tr>\n",
              "      <th>0</th>\n",
              "      <td>2012-01-12</td>\n",
              "      <td>1295.500000</td>\n",
              "    </tr>\n",
              "    <tr>\n",
              "      <th>1</th>\n",
              "      <td>2012-01-13</td>\n",
              "      <td>1289.089966</td>\n",
              "    </tr>\n",
              "    <tr>\n",
              "      <th>2</th>\n",
              "      <td>2012-01-17</td>\n",
              "      <td>1293.670044</td>\n",
              "    </tr>\n",
              "    <tr>\n",
              "      <th>3</th>\n",
              "      <td>2012-01-18</td>\n",
              "      <td>1308.040039</td>\n",
              "    </tr>\n",
              "    <tr>\n",
              "      <th>4</th>\n",
              "      <td>2012-01-19</td>\n",
              "      <td>1314.500000</td>\n",
              "    </tr>\n",
              "    <tr>\n",
              "      <th>...</th>\n",
              "      <td>...</td>\n",
              "      <td>...</td>\n",
              "    </tr>\n",
              "    <tr>\n",
              "      <th>2154</th>\n",
              "      <td>2020-08-05</td>\n",
              "      <td>3327.770020</td>\n",
              "    </tr>\n",
              "    <tr>\n",
              "      <th>2155</th>\n",
              "      <td>2020-08-06</td>\n",
              "      <td>3349.159912</td>\n",
              "    </tr>\n",
              "    <tr>\n",
              "      <th>2156</th>\n",
              "      <td>2020-08-07</td>\n",
              "      <td>3351.280029</td>\n",
              "    </tr>\n",
              "    <tr>\n",
              "      <th>2157</th>\n",
              "      <td>2020-08-10</td>\n",
              "      <td>3360.469971</td>\n",
              "    </tr>\n",
              "    <tr>\n",
              "      <th>2158</th>\n",
              "      <td>2020-08-11</td>\n",
              "      <td>3333.689941</td>\n",
              "    </tr>\n",
              "  </tbody>\n",
              "</table>\n",
              "<p>2159 rows × 2 columns</p>\n",
              "</div>\n",
              "      <button class=\"colab-df-convert\" onclick=\"convertToInteractive('df-fed9317d-b98a-4ab6-98a0-2118bc17a379')\"\n",
              "              title=\"Convert this dataframe to an interactive table.\"\n",
              "              style=\"display:none;\">\n",
              "        \n",
              "  <svg xmlns=\"http://www.w3.org/2000/svg\" height=\"24px\"viewBox=\"0 0 24 24\"\n",
              "       width=\"24px\">\n",
              "    <path d=\"M0 0h24v24H0V0z\" fill=\"none\"/>\n",
              "    <path d=\"M18.56 5.44l.94 2.06.94-2.06 2.06-.94-2.06-.94-.94-2.06-.94 2.06-2.06.94zm-11 1L8.5 8.5l.94-2.06 2.06-.94-2.06-.94L8.5 2.5l-.94 2.06-2.06.94zm10 10l.94 2.06.94-2.06 2.06-.94-2.06-.94-.94-2.06-.94 2.06-2.06.94z\"/><path d=\"M17.41 7.96l-1.37-1.37c-.4-.4-.92-.59-1.43-.59-.52 0-1.04.2-1.43.59L10.3 9.45l-7.72 7.72c-.78.78-.78 2.05 0 2.83L4 21.41c.39.39.9.59 1.41.59.51 0 1.02-.2 1.41-.59l7.78-7.78 2.81-2.81c.8-.78.8-2.07 0-2.86zM5.41 20L4 18.59l7.72-7.72 1.47 1.35L5.41 20z\"/>\n",
              "  </svg>\n",
              "      </button>\n",
              "      \n",
              "  <style>\n",
              "    .colab-df-container {\n",
              "      display:flex;\n",
              "      flex-wrap:wrap;\n",
              "      gap: 12px;\n",
              "    }\n",
              "\n",
              "    .colab-df-convert {\n",
              "      background-color: #E8F0FE;\n",
              "      border: none;\n",
              "      border-radius: 50%;\n",
              "      cursor: pointer;\n",
              "      display: none;\n",
              "      fill: #1967D2;\n",
              "      height: 32px;\n",
              "      padding: 0 0 0 0;\n",
              "      width: 32px;\n",
              "    }\n",
              "\n",
              "    .colab-df-convert:hover {\n",
              "      background-color: #E2EBFA;\n",
              "      box-shadow: 0px 1px 2px rgba(60, 64, 67, 0.3), 0px 1px 3px 1px rgba(60, 64, 67, 0.15);\n",
              "      fill: #174EA6;\n",
              "    }\n",
              "\n",
              "    [theme=dark] .colab-df-convert {\n",
              "      background-color: #3B4455;\n",
              "      fill: #D2E3FC;\n",
              "    }\n",
              "\n",
              "    [theme=dark] .colab-df-convert:hover {\n",
              "      background-color: #434B5C;\n",
              "      box-shadow: 0px 1px 3px 1px rgba(0, 0, 0, 0.15);\n",
              "      filter: drop-shadow(0px 1px 2px rgba(0, 0, 0, 0.3));\n",
              "      fill: #FFFFFF;\n",
              "    }\n",
              "  </style>\n",
              "\n",
              "      <script>\n",
              "        const buttonEl =\n",
              "          document.querySelector('#df-fed9317d-b98a-4ab6-98a0-2118bc17a379 button.colab-df-convert');\n",
              "        buttonEl.style.display =\n",
              "          google.colab.kernel.accessAllowed ? 'block' : 'none';\n",
              "\n",
              "        async function convertToInteractive(key) {\n",
              "          const element = document.querySelector('#df-fed9317d-b98a-4ab6-98a0-2118bc17a379');\n",
              "          const dataTable =\n",
              "            await google.colab.kernel.invokeFunction('convertToInteractive',\n",
              "                                                     [key], {});\n",
              "          if (!dataTable) return;\n",
              "\n",
              "          const docLinkHtml = 'Like what you see? Visit the ' +\n",
              "            '<a target=\"_blank\" href=https://colab.research.google.com/notebooks/data_table.ipynb>data table notebook</a>'\n",
              "            + ' to learn more about interactive tables.';\n",
              "          element.innerHTML = '';\n",
              "          dataTable['output_type'] = 'display_data';\n",
              "          await google.colab.output.renderOutput(dataTable, element);\n",
              "          const docLink = document.createElement('div');\n",
              "          docLink.innerHTML = docLinkHtml;\n",
              "          element.appendChild(docLink);\n",
              "        }\n",
              "      </script>\n",
              "    </div>\n",
              "  </div>\n",
              "  "
            ]
          },
          "metadata": {},
          "execution_count": 26
        }
      ]
    },
    {
      "cell_type": "code",
      "source": [
        "df1_1=stock_new_df.reset_index()['Close']\n",
        "df1_1"
      ],
      "metadata": {
        "colab": {
          "base_uri": "https://localhost:8080/"
        },
        "id": "oDTq3Wk92nPE",
        "outputId": "1acf1a5d-fc6f-4afd-c2b9-aaad9a3f0a0e"
      },
      "execution_count": null,
      "outputs": [
        {
          "output_type": "execute_result",
          "data": {
            "text/plain": [
              "0       1295.500000\n",
              "1       1289.089966\n",
              "2       1293.670044\n",
              "3       1308.040039\n",
              "4       1314.500000\n",
              "           ...     \n",
              "2154    3327.770020\n",
              "2155    3349.159912\n",
              "2156    3351.280029\n",
              "2157    3360.469971\n",
              "2158    3333.689941\n",
              "Name: Close, Length: 2159, dtype: float64"
            ]
          },
          "metadata": {},
          "execution_count": 27
        }
      ]
    },
    {
      "cell_type": "code",
      "source": [
        "from sklearn.preprocessing import MinMaxScaler\n",
        "scaler=MinMaxScaler(feature_range=(0,1))\n",
        "df1=scaler.fit_transform(np.array(df1_1).reshape(-1,1))\n",
        "df1"
      ],
      "metadata": {
        "colab": {
          "base_uri": "https://localhost:8080/"
        },
        "id": "P7Eu5GNz2x_U",
        "outputId": "925e2ed6-61c8-41c4-b85c-5cde1d8b32c2"
      },
      "execution_count": null,
      "outputs": [
        {
          "output_type": "execute_result",
          "data": {
            "text/plain": [
              "array([[0.00828228],\n",
              "       [0.00524163],\n",
              "       [0.00741423],\n",
              "       ...,\n",
              "       [0.98345918],\n",
              "       [0.9878185 ],\n",
              "       [0.97511517]])"
            ]
          },
          "metadata": {},
          "execution_count": 28
        }
      ]
    },
    {
      "cell_type": "code",
      "source": [
        "x=df1[:,:1]"
      ],
      "metadata": {
        "id": "N1HjY_Qd26hy"
      },
      "execution_count": null,
      "outputs": []
    },
    {
      "cell_type": "code",
      "source": [
        "##splitting dataset into train and test split\n",
        "training_size=int(len(df1)*0.65)\n",
        "test_size=len(df1)-training_size\n",
        "train_data,test_data=df1[0:training_size,:],df1[training_size:len(df1),:1]"
      ],
      "metadata": {
        "id": "rpMJ9w943HQ-"
      },
      "execution_count": null,
      "outputs": []
    },
    {
      "cell_type": "code",
      "source": [
        "test_size"
      ],
      "metadata": {
        "colab": {
          "base_uri": "https://localhost:8080/"
        },
        "id": "fAnEJaj73Ibx",
        "outputId": "aac33bee-aba2-4d08-e945-22ac07538068"
      },
      "execution_count": null,
      "outputs": [
        {
          "output_type": "execute_result",
          "data": {
            "text/plain": [
              "756"
            ]
          },
          "metadata": {},
          "execution_count": 51
        }
      ]
    },
    {
      "cell_type": "code",
      "source": [
        "def create_dataset(dataset, time_step=1):\n",
        "\tdataX, dataY = [], []\n",
        "\tfor i in range(len(dataset)-time_step-1):\n",
        "\t\ta = dataset[i:(i+time_step), 0]   ###i=0, 0,1,2,3-----99   100 \n",
        "\t\tdataX.append(a)\n",
        "\t\tdataY.append(dataset[i + time_step, 0])\n",
        "\treturn numpy.array(dataX), numpy.array(dataY)"
      ],
      "metadata": {
        "id": "6q36TOCv3SyE"
      },
      "execution_count": null,
      "outputs": []
    },
    {
      "cell_type": "code",
      "source": [
        "import numpy"
      ],
      "metadata": {
        "id": "w3mcxdWt3Xyf"
      },
      "execution_count": null,
      "outputs": []
    },
    {
      "cell_type": "code",
      "source": [
        "time_step = 100\n",
        "X_train, y_train = create_dataset(train_data, time_step)\n",
        "X_test, ytest = create_dataset(test_data, time_step)"
      ],
      "metadata": {
        "id": "h0zOF2Mm3bAG"
      },
      "execution_count": null,
      "outputs": []
    },
    {
      "cell_type": "code",
      "source": [
        "# reshape input to be [samples, time steps, features] which is required for LSTM\n",
        "X_train =X_train.reshape(X_train.shape[0],X_train.shape[1] , 1)\n",
        "X_test = X_test.reshape(X_test.shape[0],X_test.shape[1] , 1)"
      ],
      "metadata": {
        "id": "eUkuVqZC3gI4"
      },
      "execution_count": null,
      "outputs": []
    },
    {
      "cell_type": "code",
      "source": [
        "from tensorflow.keras.models import Sequential\n",
        "from tensorflow.keras.layers import Dense\n",
        "from tensorflow.keras.layers import LSTM"
      ],
      "metadata": {
        "id": "HKQstMox3mXF"
      },
      "execution_count": null,
      "outputs": []
    },
    {
      "cell_type": "code",
      "source": [
        "model=Sequential()\n",
        "model.add(LSTM(50,return_sequences=True,input_shape=(100,1)))\n",
        "model.add(LSTM(50,return_sequences=True))\n",
        "model.add(LSTM(50))\n",
        "model.add(Dense(1))\n",
        "model.compile(loss='mean_squared_error',optimizer='adam')"
      ],
      "metadata": {
        "id": "1rJjzFGx3r9I"
      },
      "execution_count": null,
      "outputs": []
    },
    {
      "cell_type": "code",
      "source": [
        "model.fit(X_train,y_train,validation_data=(X_test,ytest),epochs=100,batch_size=64,verbose=1)"
      ],
      "metadata": {
        "colab": {
          "base_uri": "https://localhost:8080/"
        },
        "id": "kfiYmZWI3xPI",
        "outputId": "caf2ade7-dd5a-4512-bffc-69e03df811cc"
      },
      "execution_count": null,
      "outputs": [
        {
          "output_type": "stream",
          "name": "stdout",
          "text": [
            "Epoch 1/100\n",
            "21/21 [==============================] - 4s 209ms/step - loss: 5.4203e-05 - val_loss: 5.4847e-04\n",
            "Epoch 2/100\n",
            "21/21 [==============================] - 4s 207ms/step - loss: 5.3788e-05 - val_loss: 5.7005e-04\n",
            "Epoch 3/100\n",
            "21/21 [==============================] - 4s 212ms/step - loss: 5.4691e-05 - val_loss: 5.3351e-04\n",
            "Epoch 4/100\n",
            "21/21 [==============================] - 7s 346ms/step - loss: 5.2556e-05 - val_loss: 5.5195e-04\n",
            "Epoch 5/100\n",
            "21/21 [==============================] - 7s 328ms/step - loss: 5.5839e-05 - val_loss: 5.6361e-04\n",
            "Epoch 6/100\n",
            "21/21 [==============================] - 4s 212ms/step - loss: 5.1397e-05 - val_loss: 5.2906e-04\n",
            "Epoch 7/100\n",
            "21/21 [==============================] - 4s 212ms/step - loss: 5.0780e-05 - val_loss: 5.3028e-04\n",
            "Epoch 8/100\n",
            "21/21 [==============================] - 4s 207ms/step - loss: 5.8463e-05 - val_loss: 5.4466e-04\n",
            "Epoch 9/100\n",
            "21/21 [==============================] - 4s 213ms/step - loss: 7.0043e-05 - val_loss: 5.3421e-04\n",
            "Epoch 10/100\n",
            "21/21 [==============================] - 4s 207ms/step - loss: 6.0334e-05 - val_loss: 6.8270e-04\n",
            "Epoch 11/100\n",
            "21/21 [==============================] - 4s 212ms/step - loss: 6.6690e-05 - val_loss: 8.2788e-04\n",
            "Epoch 12/100\n",
            "21/21 [==============================] - 4s 211ms/step - loss: 5.8833e-05 - val_loss: 5.3131e-04\n",
            "Epoch 13/100\n",
            "21/21 [==============================] - 4s 210ms/step - loss: 5.1156e-05 - val_loss: 6.0106e-04\n",
            "Epoch 14/100\n",
            "21/21 [==============================] - 6s 292ms/step - loss: 5.0360e-05 - val_loss: 5.5356e-04\n",
            "Epoch 15/100\n",
            "21/21 [==============================] - 4s 213ms/step - loss: 6.2988e-05 - val_loss: 5.2760e-04\n",
            "Epoch 16/100\n",
            "21/21 [==============================] - 4s 213ms/step - loss: 5.2482e-05 - val_loss: 5.2593e-04\n",
            "Epoch 17/100\n",
            "21/21 [==============================] - 4s 213ms/step - loss: 5.6401e-05 - val_loss: 5.3058e-04\n",
            "Epoch 18/100\n",
            "21/21 [==============================] - 4s 213ms/step - loss: 5.7573e-05 - val_loss: 5.5385e-04\n",
            "Epoch 19/100\n",
            "21/21 [==============================] - 4s 211ms/step - loss: 6.4115e-05 - val_loss: 6.7718e-04\n",
            "Epoch 20/100\n",
            "21/21 [==============================] - 4s 209ms/step - loss: 7.1030e-05 - val_loss: 6.3268e-04\n",
            "Epoch 21/100\n",
            "21/21 [==============================] - 4s 210ms/step - loss: 5.2119e-05 - val_loss: 5.2946e-04\n",
            "Epoch 22/100\n",
            "21/21 [==============================] - 4s 213ms/step - loss: 5.9200e-05 - val_loss: 5.7466e-04\n",
            "Epoch 23/100\n",
            "21/21 [==============================] - 4s 214ms/step - loss: 5.1847e-05 - val_loss: 5.8706e-04\n",
            "Epoch 24/100\n",
            "21/21 [==============================] - 4s 211ms/step - loss: 5.6268e-05 - val_loss: 7.4097e-04\n",
            "Epoch 25/100\n",
            "21/21 [==============================] - 4s 213ms/step - loss: 7.8943e-05 - val_loss: 6.1835e-04\n",
            "Epoch 26/100\n",
            "21/21 [==============================] - 4s 210ms/step - loss: 5.9205e-05 - val_loss: 6.2045e-04\n",
            "Epoch 27/100\n",
            "21/21 [==============================] - 4s 213ms/step - loss: 5.4858e-05 - val_loss: 5.4249e-04\n",
            "Epoch 28/100\n",
            "21/21 [==============================] - 4s 212ms/step - loss: 5.3708e-05 - val_loss: 5.4639e-04\n",
            "Epoch 29/100\n",
            "21/21 [==============================] - 4s 213ms/step - loss: 5.0952e-05 - val_loss: 5.3062e-04\n",
            "Epoch 30/100\n",
            "21/21 [==============================] - 4s 209ms/step - loss: 5.2958e-05 - val_loss: 6.1030e-04\n",
            "Epoch 31/100\n",
            "21/21 [==============================] - 4s 208ms/step - loss: 5.6663e-05 - val_loss: 5.4783e-04\n",
            "Epoch 32/100\n",
            "21/21 [==============================] - 4s 212ms/step - loss: 5.6146e-05 - val_loss: 5.8219e-04\n",
            "Epoch 33/100\n",
            "21/21 [==============================] - 4s 209ms/step - loss: 5.8697e-05 - val_loss: 8.5257e-04\n",
            "Epoch 34/100\n",
            "21/21 [==============================] - 4s 212ms/step - loss: 6.6327e-05 - val_loss: 5.1877e-04\n",
            "Epoch 35/100\n",
            "21/21 [==============================] - 4s 208ms/step - loss: 5.1076e-05 - val_loss: 5.2561e-04\n",
            "Epoch 36/100\n",
            "21/21 [==============================] - 4s 212ms/step - loss: 5.1368e-05 - val_loss: 5.3092e-04\n",
            "Epoch 37/100\n",
            "21/21 [==============================] - 4s 210ms/step - loss: 5.3031e-05 - val_loss: 5.3682e-04\n",
            "Epoch 38/100\n",
            "21/21 [==============================] - 4s 211ms/step - loss: 6.1904e-05 - val_loss: 5.1514e-04\n",
            "Epoch 39/100\n",
            "21/21 [==============================] - 4s 211ms/step - loss: 5.9218e-05 - val_loss: 5.9695e-04\n",
            "Epoch 40/100\n",
            "21/21 [==============================] - 4s 213ms/step - loss: 5.7865e-05 - val_loss: 5.2167e-04\n",
            "Epoch 41/100\n",
            "21/21 [==============================] - 4s 213ms/step - loss: 5.0754e-05 - val_loss: 6.4095e-04\n",
            "Epoch 42/100\n",
            "21/21 [==============================] - 4s 211ms/step - loss: 5.7653e-05 - val_loss: 5.2171e-04\n",
            "Epoch 43/100\n",
            "21/21 [==============================] - 4s 214ms/step - loss: 5.6588e-05 - val_loss: 5.2021e-04\n",
            "Epoch 44/100\n",
            "21/21 [==============================] - 4s 212ms/step - loss: 5.0532e-05 - val_loss: 5.9756e-04\n",
            "Epoch 45/100\n",
            "21/21 [==============================] - 4s 208ms/step - loss: 5.4871e-05 - val_loss: 5.5508e-04\n",
            "Epoch 46/100\n",
            "21/21 [==============================] - 4s 211ms/step - loss: 5.4290e-05 - val_loss: 5.1575e-04\n",
            "Epoch 47/100\n",
            "21/21 [==============================] - 4s 208ms/step - loss: 5.8171e-05 - val_loss: 5.1898e-04\n",
            "Epoch 48/100\n",
            "21/21 [==============================] - 4s 213ms/step - loss: 5.3845e-05 - val_loss: 6.2562e-04\n",
            "Epoch 49/100\n",
            "21/21 [==============================] - 4s 212ms/step - loss: 5.2931e-05 - val_loss: 5.1783e-04\n",
            "Epoch 50/100\n",
            "21/21 [==============================] - 4s 213ms/step - loss: 5.8677e-05 - val_loss: 5.1536e-04\n",
            "Epoch 51/100\n",
            "21/21 [==============================] - 4s 213ms/step - loss: 5.5503e-05 - val_loss: 5.4947e-04\n",
            "Epoch 52/100\n",
            "21/21 [==============================] - 4s 214ms/step - loss: 5.0105e-05 - val_loss: 5.1071e-04\n",
            "Epoch 53/100\n",
            "21/21 [==============================] - 4s 211ms/step - loss: 5.3556e-05 - val_loss: 5.4173e-04\n",
            "Epoch 54/100\n",
            "21/21 [==============================] - 4s 212ms/step - loss: 5.8401e-05 - val_loss: 5.5804e-04\n",
            "Epoch 55/100\n",
            "21/21 [==============================] - 4s 211ms/step - loss: 5.9571e-05 - val_loss: 5.1852e-04\n",
            "Epoch 56/100\n",
            "21/21 [==============================] - 4s 211ms/step - loss: 5.5651e-05 - val_loss: 5.4869e-04\n",
            "Epoch 57/100\n",
            "21/21 [==============================] - 4s 210ms/step - loss: 5.3249e-05 - val_loss: 5.3415e-04\n",
            "Epoch 58/100\n",
            "21/21 [==============================] - 4s 211ms/step - loss: 5.5042e-05 - val_loss: 5.1537e-04\n",
            "Epoch 59/100\n",
            "21/21 [==============================] - 4s 212ms/step - loss: 6.2202e-05 - val_loss: 5.1476e-04\n",
            "Epoch 60/100\n",
            "21/21 [==============================] - 4s 208ms/step - loss: 5.5944e-05 - val_loss: 5.4452e-04\n",
            "Epoch 61/100\n",
            "21/21 [==============================] - 4s 212ms/step - loss: 6.0261e-05 - val_loss: 5.8129e-04\n",
            "Epoch 62/100\n",
            "21/21 [==============================] - 4s 212ms/step - loss: 5.8032e-05 - val_loss: 5.3295e-04\n",
            "Epoch 63/100\n",
            "21/21 [==============================] - 4s 212ms/step - loss: 5.3419e-05 - val_loss: 5.4277e-04\n",
            "Epoch 64/100\n",
            "21/21 [==============================] - 4s 213ms/step - loss: 6.6518e-05 - val_loss: 7.0838e-04\n",
            "Epoch 65/100\n",
            "21/21 [==============================] - 4s 212ms/step - loss: 5.5106e-05 - val_loss: 5.2783e-04\n",
            "Epoch 66/100\n",
            "21/21 [==============================] - 4s 213ms/step - loss: 5.7130e-05 - val_loss: 6.0927e-04\n",
            "Epoch 67/100\n",
            "21/21 [==============================] - 4s 211ms/step - loss: 5.9336e-05 - val_loss: 5.1895e-04\n",
            "Epoch 68/100\n",
            "21/21 [==============================] - 4s 211ms/step - loss: 5.2245e-05 - val_loss: 5.1401e-04\n",
            "Epoch 69/100\n",
            "21/21 [==============================] - 4s 204ms/step - loss: 5.5429e-05 - val_loss: 5.2575e-04\n",
            "Epoch 70/100\n",
            "21/21 [==============================] - 4s 209ms/step - loss: 5.2953e-05 - val_loss: 5.0989e-04\n",
            "Epoch 71/100\n",
            "21/21 [==============================] - 4s 214ms/step - loss: 5.6656e-05 - val_loss: 5.8057e-04\n",
            "Epoch 72/100\n",
            "21/21 [==============================] - 4s 211ms/step - loss: 5.3275e-05 - val_loss: 5.1649e-04\n",
            "Epoch 73/100\n",
            "21/21 [==============================] - 5s 215ms/step - loss: 5.1878e-05 - val_loss: 5.2567e-04\n",
            "Epoch 74/100\n",
            "21/21 [==============================] - 4s 215ms/step - loss: 5.1925e-05 - val_loss: 5.0770e-04\n",
            "Epoch 75/100\n",
            "21/21 [==============================] - 4s 210ms/step - loss: 5.4406e-05 - val_loss: 5.0449e-04\n",
            "Epoch 76/100\n",
            "21/21 [==============================] - 4s 210ms/step - loss: 5.1707e-05 - val_loss: 4.9768e-04\n",
            "Epoch 77/100\n",
            "21/21 [==============================] - 4s 212ms/step - loss: 5.6756e-05 - val_loss: 5.7497e-04\n",
            "Epoch 78/100\n",
            "21/21 [==============================] - 4s 210ms/step - loss: 6.8959e-05 - val_loss: 5.0861e-04\n",
            "Epoch 79/100\n",
            "21/21 [==============================] - 4s 213ms/step - loss: 6.2043e-05 - val_loss: 5.3811e-04\n",
            "Epoch 80/100\n",
            "21/21 [==============================] - 4s 214ms/step - loss: 7.7020e-05 - val_loss: 6.2363e-04\n",
            "Epoch 81/100\n",
            "21/21 [==============================] - 4s 213ms/step - loss: 5.2531e-05 - val_loss: 5.0955e-04\n",
            "Epoch 82/100\n",
            "21/21 [==============================] - 4s 214ms/step - loss: 5.2963e-05 - val_loss: 5.1439e-04\n",
            "Epoch 83/100\n",
            "21/21 [==============================] - 4s 212ms/step - loss: 5.8272e-05 - val_loss: 5.6759e-04\n",
            "Epoch 84/100\n",
            "21/21 [==============================] - 4s 212ms/step - loss: 6.4250e-05 - val_loss: 5.7392e-04\n",
            "Epoch 85/100\n",
            "21/21 [==============================] - 4s 211ms/step - loss: 5.0337e-05 - val_loss: 5.2008e-04\n",
            "Epoch 86/100\n",
            "21/21 [==============================] - 5s 216ms/step - loss: 5.5018e-05 - val_loss: 6.1522e-04\n",
            "Epoch 87/100\n",
            "21/21 [==============================] - 4s 213ms/step - loss: 6.1141e-05 - val_loss: 7.3621e-04\n",
            "Epoch 88/100\n",
            "21/21 [==============================] - 4s 211ms/step - loss: 5.6775e-05 - val_loss: 5.0215e-04\n",
            "Epoch 89/100\n",
            "21/21 [==============================] - 4s 212ms/step - loss: 5.8748e-05 - val_loss: 5.2037e-04\n",
            "Epoch 90/100\n",
            "21/21 [==============================] - 5s 216ms/step - loss: 4.9730e-05 - val_loss: 4.9303e-04\n",
            "Epoch 91/100\n",
            "21/21 [==============================] - 4s 213ms/step - loss: 5.2049e-05 - val_loss: 5.1328e-04\n",
            "Epoch 92/100\n",
            "21/21 [==============================] - 5s 216ms/step - loss: 6.0276e-05 - val_loss: 5.1196e-04\n",
            "Epoch 93/100\n",
            "21/21 [==============================] - 4s 214ms/step - loss: 5.5068e-05 - val_loss: 5.5865e-04\n",
            "Epoch 94/100\n",
            "21/21 [==============================] - 4s 214ms/step - loss: 5.0359e-05 - val_loss: 5.2085e-04\n",
            "Epoch 95/100\n",
            "21/21 [==============================] - 4s 215ms/step - loss: 5.9088e-05 - val_loss: 7.8718e-04\n",
            "Epoch 96/100\n",
            "21/21 [==============================] - 4s 215ms/step - loss: 6.4805e-05 - val_loss: 5.6830e-04\n",
            "Epoch 97/100\n",
            "21/21 [==============================] - 4s 214ms/step - loss: 6.6946e-05 - val_loss: 5.4588e-04\n",
            "Epoch 98/100\n",
            "21/21 [==============================] - 4s 214ms/step - loss: 5.2485e-05 - val_loss: 5.0962e-04\n",
            "Epoch 99/100\n",
            "21/21 [==============================] - 4s 215ms/step - loss: 5.3963e-05 - val_loss: 6.5953e-04\n",
            "Epoch 100/100\n",
            "21/21 [==============================] - 4s 210ms/step - loss: 5.2630e-05 - val_loss: 5.4248e-04\n"
          ]
        },
        {
          "output_type": "execute_result",
          "data": {
            "text/plain": [
              "<keras.callbacks.History at 0x7ff52259ee50>"
            ]
          },
          "metadata": {},
          "execution_count": 115
        }
      ]
    },
    {
      "cell_type": "code",
      "source": [
        "y_pred_train = model.predict(X_train)\n",
        "y_pred_test=model.predict(X_test)"
      ],
      "metadata": {
        "id": "HPdfQ2sP4Tan"
      },
      "execution_count": null,
      "outputs": []
    },
    {
      "cell_type": "code",
      "source": [
        "train_predict=scaler.inverse_transform(y_pred_train)\n",
        "test_predict=scaler.inverse_transform(y_pred_test)"
      ],
      "metadata": {
        "id": "TqHYD_ZB4U3h"
      },
      "execution_count": null,
      "outputs": []
    },
    {
      "cell_type": "code",
      "source": [
        "from sklearn import metrics"
      ],
      "metadata": {
        "id": "qLOrXYJZ4ckf"
      },
      "execution_count": null,
      "outputs": []
    },
    {
      "cell_type": "code",
      "source": [
        "#for epoch_25 loss 2.735e-04\n",
        "print(\"Mean squared error (MSE) =\", metrics.mean_squared_error(ytest,y_pred_test ))\n",
        "print(\"Mean absolute error (MAE) =\", metrics.mean_absolute_error(ytest, y_pred_test))\n",
        "print(\"R^2 =\", metrics.r2_score(ytest, y_pred_test))"
      ],
      "metadata": {
        "colab": {
          "base_uri": "https://localhost:8080/"
        },
        "id": "vHonQC4x4qdo",
        "outputId": "c7bb8ce6-b007-4fe1-e873-faf0afe3d340"
      },
      "execution_count": null,
      "outputs": [
        {
          "output_type": "stream",
          "name": "stdout",
          "text": [
            "Mean squared error (MSE) = 0.0020036975326613946\n",
            "Mean absolute error (MAE) = 0.029961067212587435\n",
            "R^2 = 0.7905688130605638\n"
          ]
        }
      ]
    },
    {
      "cell_type": "code",
      "source": [
        "#for epoch 50 loss 1.2890e-04\n",
        "print(\"Mean squared error (MSE) =\", metrics.mean_squared_error(ytest,y_pred_test ))\n",
        "print(\"Mean absolute error (MAE) =\", metrics.mean_absolute_error(ytest, y_pred_test))\n",
        "print(\"R^2 =\", metrics.r2_score(ytest, y_pred_test))"
      ],
      "metadata": {
        "colab": {
          "base_uri": "https://localhost:8080/"
        },
        "id": "vBSPcFB79rBw",
        "outputId": "0221a685-05da-48eb-8c9c-97c5572fcfb9"
      },
      "execution_count": null,
      "outputs": [
        {
          "output_type": "stream",
          "name": "stdout",
          "text": [
            "Mean squared error (MSE) = 0.0009658368573136636\n",
            "Mean absolute error (MAE) = 0.020103754564851507\n",
            "R^2 = 0.8990484561068538\n"
          ]
        }
      ]
    },
    {
      "cell_type": "code",
      "source": [
        "#for epoch 100 loss 5.26e-05 \n",
        "print(\"Mean squared error (MSE) =\", metrics.mean_squared_error(ytest,y_pred_test ))\n",
        "print(\"Mean absolute error (MAE) =\", metrics.mean_absolute_error(ytest, y_pred_test))\n",
        "print(\"R^2 =\", metrics.r2_score(ytest, y_pred_test))"
      ],
      "metadata": {
        "colab": {
          "base_uri": "https://localhost:8080/"
        },
        "id": "ux30Mh8r_rps",
        "outputId": "0af16775-b833-4780-e79b-af39e56b86f3"
      },
      "execution_count": null,
      "outputs": [
        {
          "output_type": "stream",
          "name": "stdout",
          "text": [
            "Mean squared error (MSE) = 0.0005424783605857256\n",
            "Mean absolute error (MAE) = 0.015580760995395413\n",
            "R^2 = 0.9432988836416223\n"
          ]
        }
      ]
    },
    {
      "cell_type": "code",
      "source": [
        "#for epoch 200 loss 5.035e-05\n",
        "print(\"Mean squared error (MSE) =\", metrics.mean_squared_error(ytest,y_pred_test ))\n",
        "print(\"Mean absolute error (MAE) =\", metrics.mean_absolute_error(ytest, y_pred_test))\n",
        "print(\"R^2 =\", metrics.r2_score(ytest, y_pred_test))"
      ],
      "metadata": {
        "colab": {
          "base_uri": "https://localhost:8080/"
        },
        "id": "NY_aSUp3Cz0P",
        "outputId": "78145482-9dbb-4f2b-cac2-0a1bab7233a5"
      },
      "execution_count": null,
      "outputs": [
        {
          "output_type": "stream",
          "name": "stdout",
          "text": [
            "Mean squared error (MSE) = 0.0005391527764992948\n",
            "Mean absolute error (MAE) = 0.014319401446797376\n",
            "R^2 = 0.9436464815256018\n"
          ]
        }
      ]
    },
    {
      "cell_type": "code",
      "source": [
        "ytest_2=np.array(ytest).reshape(-1,1)\n",
        "ytest_2.shape"
      ],
      "metadata": {
        "colab": {
          "base_uri": "https://localhost:8080/"
        },
        "id": "AGt-bzmR5GB5",
        "outputId": "c00cb3f3-ce53-4713-922e-fdcf55ca61f7"
      },
      "execution_count": null,
      "outputs": [
        {
          "output_type": "execute_result",
          "data": {
            "text/plain": [
              "(655, 1)"
            ]
          },
          "metadata": {},
          "execution_count": 70
        }
      ]
    },
    {
      "cell_type": "code",
      "source": [
        "ytest_2=scaler.inverse_transform(ytest_2)"
      ],
      "metadata": {
        "id": "VnZ_hGyo5Pfr"
      },
      "execution_count": null,
      "outputs": []
    },
    {
      "cell_type": "code",
      "source": [
        "#for 25 epoch\n",
        "plt.plot(ytest_2, color = 'green', label = 'sp500 Stock Price')\n",
        "plt.plot(test_predict, color = 'red', label = 'Predicted sp500 Stock Price')\n",
        "plt.title('sp500 Stock Price Prediction')\n",
        "plt.xlabel('Time')\n",
        "plt.ylabel('sp500 Stock Price')\n",
        "plt.legend()\n",
        "plt.show()"
      ],
      "metadata": {
        "colab": {
          "base_uri": "https://localhost:8080/",
          "height": 347
        },
        "id": "mDYBYvqv5ShJ",
        "outputId": "d814a581-c086-4ffe-eed1-c8bb0a8e3017"
      },
      "execution_count": null,
      "outputs": [
        {
          "output_type": "execute_result",
          "data": {
            "text/plain": [
              "[<matplotlib.lines.Line2D at 0x7ff51fad7610>]"
            ]
          },
          "metadata": {},
          "execution_count": 47
        },
        {
          "output_type": "execute_result",
          "data": {
            "text/plain": [
              "[<matplotlib.lines.Line2D at 0x7ff51fad7ad0>]"
            ]
          },
          "metadata": {},
          "execution_count": 47
        },
        {
          "output_type": "execute_result",
          "data": {
            "text/plain": [
              "Text(0.5, 1.0, 'sp500 Stock Price Prediction')"
            ]
          },
          "metadata": {},
          "execution_count": 47
        },
        {
          "output_type": "execute_result",
          "data": {
            "text/plain": [
              "Text(0.5, 0, 'Time')"
            ]
          },
          "metadata": {},
          "execution_count": 47
        },
        {
          "output_type": "execute_result",
          "data": {
            "text/plain": [
              "Text(0, 0.5, 'sp500 Stock Price')"
            ]
          },
          "metadata": {},
          "execution_count": 47
        },
        {
          "output_type": "execute_result",
          "data": {
            "text/plain": [
              "<matplotlib.legend.Legend at 0x7ff51fad7c50>"
            ]
          },
          "metadata": {},
          "execution_count": 47
        },
        {
          "output_type": "display_data",
          "data": {
            "text/plain": [
              "<Figure size 432x288 with 1 Axes>"
            ],
            "image/png": "[encoded data removed]"
          },
          "metadata": {
            "needs_background": "light"
          }
        }
      ]
    },
    {
      "cell_type": "code",
      "source": [
        "#for 50 epoch\n",
        "plt.plot(ytest_2, color = 'green', label = 'sp500 Stock Price')\n",
        "plt.plot(test_predict, color = 'red', label = 'Predicted sp500 Stock Price')\n",
        "plt.title('sp500 Stock Price Prediction for 50epoch')\n",
        "plt.xlabel('Time')\n",
        "plt.ylabel('sp500 Stock Price')\n",
        "plt.legend()\n",
        "plt.show()"
      ],
      "metadata": {
        "colab": {
          "base_uri": "https://localhost:8080/",
          "height": 347
        },
        "id": "ip2fvncX7dQy",
        "outputId": "3324c831-7a80-4c9b-b9fd-e30ea2db9138"
      },
      "execution_count": null,
      "outputs": [
        {
          "output_type": "execute_result",
          "data": {
            "text/plain": [
              "[<matplotlib.lines.Line2D at 0x7ff52282b190>]"
            ]
          },
          "metadata": {},
          "execution_count": 58
        },
        {
          "output_type": "execute_result",
          "data": {
            "text/plain": [
              "[<matplotlib.lines.Line2D at 0x7ff52282b690>]"
            ]
          },
          "metadata": {},
          "execution_count": 58
        },
        {
          "output_type": "execute_result",
          "data": {
            "text/plain": [
              "Text(0.5, 1.0, 'sp500 Stock Price Prediction for 50epoch')"
            ]
          },
          "metadata": {},
          "execution_count": 58
        },
        {
          "output_type": "execute_result",
          "data": {
            "text/plain": [
              "Text(0.5, 0, 'Time')"
            ]
          },
          "metadata": {},
          "execution_count": 58
        },
        {
          "output_type": "execute_result",
          "data": {
            "text/plain": [
              "Text(0, 0.5, 'sp500 Stock Price')"
            ]
          },
          "metadata": {},
          "execution_count": 58
        },
        {
          "output_type": "execute_result",
          "data": {
            "text/plain": [
              "<matplotlib.legend.Legend at 0x7ff522876190>"
            ]
          },
          "metadata": {},
          "execution_count": 58
        },
        {
          "output_type": "display_data",
          "data": {
            "text/plain": [
              "<Figure size 432x288 with 1 Axes>"
            ],
            "image/png": "[encoded data removed]"
          },
          "metadata": {
            "needs_background": "light"
          }
        }
      ]
    },
    {
      "cell_type": "code",
      "source": [
        "#for 100 epoch\n",
        "plt.plot(ytest_2, color = 'green', label = 'sp500 Stock Price')\n",
        "plt.plot(test_predict, color = 'red', label = 'Predicted sp500 Stock Price')\n",
        "plt.title('sp500 Stock Price Prediction for 100 epoch')\n",
        "plt.xlabel('Time')\n",
        "plt.ylabel('sp500 Stock Price')\n",
        "plt.legend()\n",
        "plt.show()"
      ],
      "metadata": {
        "colab": {
          "base_uri": "https://localhost:8080/",
          "height": 347
        },
        "id": "rPh5IQfS7gPc",
        "outputId": "beeb64e1-8583-470f-9957-5fcb6c81b70c"
      },
      "execution_count": null,
      "outputs": [
        {
          "output_type": "execute_result",
          "data": {
            "text/plain": [
              "[<matplotlib.lines.Line2D at 0x7ff5222de890>]"
            ]
          },
          "metadata": {},
          "execution_count": 119
        },
        {
          "output_type": "execute_result",
          "data": {
            "text/plain": [
              "[<matplotlib.lines.Line2D at 0x7ff5222dedd0>]"
            ]
          },
          "metadata": {},
          "execution_count": 119
        },
        {
          "output_type": "execute_result",
          "data": {
            "text/plain": [
              "Text(0.5, 1.0, 'sp500 Stock Price Prediction for 100 epoch')"
            ]
          },
          "metadata": {},
          "execution_count": 119
        },
        {
          "output_type": "execute_result",
          "data": {
            "text/plain": [
              "Text(0.5, 0, 'Time')"
            ]
          },
          "metadata": {},
          "execution_count": 119
        },
        {
          "output_type": "execute_result",
          "data": {
            "text/plain": [
              "Text(0, 0.5, 'sp500 Stock Price')"
            ]
          },
          "metadata": {},
          "execution_count": 119
        },
        {
          "output_type": "execute_result",
          "data": {
            "text/plain": [
              "<matplotlib.legend.Legend at 0x7ff5222def50>"
            ]
          },
          "metadata": {},
          "execution_count": 119
        },
        {
          "output_type": "display_data",
          "data": {
            "text/plain": [
              "<Figure size 432x288 with 1 Axes>"
            ],
            "image/png": "[encoded data removed]"
          },
          "metadata": {
            "needs_background": "light"
          }
        }
      ]
    },
    {
      "cell_type": "code",
      "source": [
        "#for 200 epoch\n",
        "plt.plot(ytest_2, color = 'green', label = 'sp500 Stock Price')\n",
        "plt.plot(test_predict, color = 'red', label = 'Predicted sp500 Stock Price')\n",
        "plt.title('sp500 Stock Price Prediction for 200 epoch')\n",
        "plt.xlabel('Time')\n",
        "plt.ylabel('sp500 Stock Price')\n",
        "plt.legend()\n",
        "plt.show()"
      ],
      "metadata": {
        "colab": {
          "base_uri": "https://localhost:8080/",
          "height": 347
        },
        "id": "rDuUAi2N7v2f",
        "outputId": "22f42bac-cc1e-4c1f-8947-0cc34126e547"
      },
      "execution_count": null,
      "outputs": [
        {
          "output_type": "execute_result",
          "data": {
            "text/plain": [
              "[<matplotlib.lines.Line2D at 0x7ff522701610>]"
            ]
          },
          "metadata": {},
          "execution_count": 72
        },
        {
          "output_type": "execute_result",
          "data": {
            "text/plain": [
              "[<matplotlib.lines.Line2D at 0x7ff522701a90>]"
            ]
          },
          "metadata": {},
          "execution_count": 72
        },
        {
          "output_type": "execute_result",
          "data": {
            "text/plain": [
              "Text(0.5, 1.0, 'sp500 Stock Price Prediction for 200 epoch')"
            ]
          },
          "metadata": {},
          "execution_count": 72
        },
        {
          "output_type": "execute_result",
          "data": {
            "text/plain": [
              "Text(0.5, 0, 'Time')"
            ]
          },
          "metadata": {},
          "execution_count": 72
        },
        {
          "output_type": "execute_result",
          "data": {
            "text/plain": [
              "Text(0, 0.5, 'sp500 Stock Price')"
            ]
          },
          "metadata": {},
          "execution_count": 72
        },
        {
          "output_type": "execute_result",
          "data": {
            "text/plain": [
              "<matplotlib.legend.Legend at 0x7ff5228173d0>"
            ]
          },
          "metadata": {},
          "execution_count": 72
        },
        {
          "output_type": "display_data",
          "data": {
            "text/plain": [
              "<Figure size 432x288 with 1 Axes>"
            ],
            "image/png": "[encoded data removed]"
          },
          "metadata": {
            "needs_background": "light"
          }
        }
      ]
    },
    {
      "cell_type": "code",
      "source": [
        "# for predicted next 10 days value... 100 epoch\n",
        "len(test_data)"
      ],
      "metadata": {
        "colab": {
          "base_uri": "https://localhost:8080/"
        },
        "id": "bBIDxK0bGoFH",
        "outputId": "1ed3ae87-a9e4-4246-f6bb-9ec9ea4e4627"
      },
      "execution_count": null,
      "outputs": [
        {
          "output_type": "execute_result",
          "data": {
            "text/plain": [
              "756"
            ]
          },
          "metadata": {},
          "execution_count": 120
        }
      ]
    },
    {
      "cell_type": "code",
      "source": [
        "x_input=test_data[656:]\n",
        "x_input.shape"
      ],
      "metadata": {
        "colab": {
          "base_uri": "https://localhost:8080/"
        },
        "id": "T3fRBQP8Hixn",
        "outputId": "44b1393e-15bc-4a15-8c94-7c1b12bbc153"
      },
      "execution_count": null,
      "outputs": [
        {
          "output_type": "execute_result",
          "data": {
            "text/plain": [
              "(100, 1)"
            ]
          },
          "metadata": {},
          "execution_count": 121
        }
      ]
    },
    {
      "cell_type": "code",
      "source": [
        "x_input=test_data[655:].reshape(1,-1)\n",
        "x_input.shape"
      ],
      "metadata": {
        "colab": {
          "base_uri": "https://localhost:8080/"
        },
        "id": "eiLUQ1nHGyA9",
        "outputId": "26f7899f-4319-4ed5-8792-a3f870a55e24"
      },
      "execution_count": null,
      "outputs": [
        {
          "output_type": "execute_result",
          "data": {
            "text/plain": [
              "(1, 101)"
            ]
          },
          "metadata": {},
          "execution_count": 122
        }
      ]
    },
    {
      "cell_type": "code",
      "source": [
        "len(x_input)"
      ],
      "metadata": {
        "colab": {
          "base_uri": "https://localhost:8080/"
        },
        "id": "E5nkxL7BH4h3",
        "outputId": "067b3e2d-86dc-49f7-c356-4300c21eef9c"
      },
      "execution_count": null,
      "outputs": [
        {
          "output_type": "execute_result",
          "data": {
            "text/plain": [
              "1"
            ]
          },
          "metadata": {},
          "execution_count": 123
        }
      ]
    },
    {
      "cell_type": "code",
      "source": [
        "temp_input=list(x_input)\n",
        "temp_input=temp_input[0].tolist()\n",
        "temp_input"
      ],
      "metadata": {
        "id": "Q6cLfqhqG1Nh"
      },
      "execution_count": null,
      "outputs": []
    },
    {
      "cell_type": "code",
      "source": [
        "x_input.shape"
      ],
      "metadata": {
        "colab": {
          "base_uri": "https://localhost:8080/"
        },
        "id": "6iA6uufEJjo-",
        "outputId": "69b13ca9-290b-49f6-b561-5ab56d5269a8"
      },
      "execution_count": null,
      "outputs": [
        {
          "output_type": "execute_result",
          "data": {
            "text/plain": [
              "(1, 101)"
            ]
          },
          "metadata": {},
          "execution_count": 125
        }
      ]
    },
    {
      "cell_type": "code",
      "source": [
        "# demonstrate prediction for next 30 days\n",
        "lst_output=[]\n",
        "n_steps=100\n",
        "i=0\n",
        "while(i<30):\n",
        "    \n",
        "    if(len(temp_input)>100):\n",
        "        #print(temp_input)\n",
        "        x_input = np.array(temp_input[1:])\n",
        "        print(\"{} day input {}\".format(i,x_input))\n",
        "        x_input = x_input.reshape(1,-1)\n",
        "        x_input = x_input.reshape((1, n_steps, 1))\n",
        "        # print(x_input)\n",
        "        yhat = model.predict(x_input, verbose=0)\n",
        "        print(\"{} day output {}\".format(i,yhat))\n",
        "        temp_input.extend(yhat[0].tolist())\n",
        "        temp_input=temp_input[1:]\n",
        "        # print(temp_input)\n",
        "        lst_output.extend(yhat.tolist())\n",
        "        i=i+1\n",
        "    else:\n",
        "        x_input = x_input.reshape((1, n_steps,1))\n",
        "        yhat = model.predict(x_input, verbose=0)\n",
        "        print(yhat[0])\n",
        "        temp_input.extend(yhat[0].tolist())\n",
        "        print(len(temp_input))\n",
        "        lst_output.extend(yhat.tolist())\n",
        "        i=i+1\n",
        "    \n",
        "\n",
        "print(lst_output)"
      ],
      "metadata": {
        "colab": {
          "base_uri": "https://localhost:8080/"
        },
        "id": "g4bxW0fYG6hw",
        "outputId": "023fbf3b-5dbd-4672-c5f5-80fbef102cee"
      },
      "execution_count": null,
      "outputs": [
        {
          "output_type": "stream",
          "name": "stdout",
          "text": [
            "0 day input [0.48710928 0.45508058 0.55466276 0.5680539  0.64134704 0.59931883\n",
            " 0.63972466 0.61977323 0.56565361 0.59240739 0.57426317 0.65729017\n",
            " 0.65526465 0.69822734 0.71712583 0.70375357 0.74380375 0.71406149\n",
            " 0.72174133 0.75732297 0.73294087 0.69186148 0.72162749 0.7209112\n",
            " 0.73938269 0.75918242 0.7520243  0.78813254 0.77528687 0.7365223\n",
            " 0.74222885 0.75441984 0.74492317 0.76046791 0.78352653 0.78371148\n",
            " 0.75521684 0.73144194 0.74685859 0.75217138 0.79496325 0.78027238\n",
            " 0.80335949 0.79240176 0.79569378 0.81292252 0.833965   0.83092915\n",
            " 0.83784534 0.84326248 0.85516417 0.87511098 0.87012071 0.90881881\n",
            " 0.92706262 0.91510406 0.90702097 0.81782268 0.83642226 0.84841406\n",
            " 0.87599797 0.87066143 0.87153904 0.86319028 0.87273443 0.87910504\n",
            " 0.84070099 0.85655876 0.82111945 0.84208133 0.86439992 0.87178572\n",
            " 0.87849784 0.90207819 0.8857603  0.89743895 0.88895273 0.90460181\n",
            " 0.89045641 0.9105218  0.92429719 0.91908399 0.92342908 0.93628899\n",
            " 0.93887897 0.94775895 0.92861378 0.91911237 0.93039263 0.92044534\n",
            " 0.93941968 0.93362304 0.94543463 0.95657731 0.96222213 0.972307\n",
            " 0.98245348 0.98345918 0.9878185  0.97511517]\n",
            "0 day output [[0.9459808]]\n",
            "1 day input [0.45508058 0.55466276 0.5680539  0.64134704 0.59931883 0.63972466\n",
            " 0.61977323 0.56565361 0.59240739 0.57426317 0.65729017 0.65526465\n",
            " 0.69822734 0.71712583 0.70375357 0.74380375 0.71406149 0.72174133\n",
            " 0.75732297 0.73294087 0.69186148 0.72162749 0.7209112  0.73938269\n",
            " 0.75918242 0.7520243  0.78813254 0.77528687 0.7365223  0.74222885\n",
            " 0.75441984 0.74492317 0.76046791 0.78352653 0.78371148 0.75521684\n",
            " 0.73144194 0.74685859 0.75217138 0.79496325 0.78027238 0.80335949\n",
            " 0.79240176 0.79569378 0.81292252 0.833965   0.83092915 0.83784534\n",
            " 0.84326248 0.85516417 0.87511098 0.87012071 0.90881881 0.92706262\n",
            " 0.91510406 0.90702097 0.81782268 0.83642226 0.84841406 0.87599797\n",
            " 0.87066143 0.87153904 0.86319028 0.87273443 0.87910504 0.84070099\n",
            " 0.85655876 0.82111945 0.84208133 0.86439992 0.87178572 0.87849784\n",
            " 0.90207819 0.8857603  0.89743895 0.88895273 0.90460181 0.89045641\n",
            " 0.9105218  0.92429719 0.91908399 0.92342908 0.93628899 0.93887897\n",
            " 0.94775895 0.92861378 0.91911237 0.93039263 0.92044534 0.93941968\n",
            " 0.93362304 0.94543463 0.95657731 0.96222213 0.972307   0.98245348\n",
            " 0.98345918 0.9878185  0.97511517 0.94598079]\n",
            "1 day output [[0.92250025]]\n",
            "2 day input [0.55466276 0.5680539  0.64134704 0.59931883 0.63972466 0.61977323\n",
            " 0.56565361 0.59240739 0.57426317 0.65729017 0.65526465 0.69822734\n",
            " 0.71712583 0.70375357 0.74380375 0.71406149 0.72174133 0.75732297\n",
            " 0.73294087 0.69186148 0.72162749 0.7209112  0.73938269 0.75918242\n",
            " 0.7520243  0.78813254 0.77528687 0.7365223  0.74222885 0.75441984\n",
            " 0.74492317 0.76046791 0.78352653 0.78371148 0.75521684 0.73144194\n",
            " 0.74685859 0.75217138 0.79496325 0.78027238 0.80335949 0.79240176\n",
            " 0.79569378 0.81292252 0.833965   0.83092915 0.83784534 0.84326248\n",
            " 0.85516417 0.87511098 0.87012071 0.90881881 0.92706262 0.91510406\n",
            " 0.90702097 0.81782268 0.83642226 0.84841406 0.87599797 0.87066143\n",
            " 0.87153904 0.86319028 0.87273443 0.87910504 0.84070099 0.85655876\n",
            " 0.82111945 0.84208133 0.86439992 0.87178572 0.87849784 0.90207819\n",
            " 0.8857603  0.89743895 0.88895273 0.90460181 0.89045641 0.9105218\n",
            " 0.92429719 0.91908399 0.92342908 0.93628899 0.93887897 0.94775895\n",
            " 0.92861378 0.91911237 0.93039263 0.92044534 0.93941968 0.93362304\n",
            " 0.94543463 0.95657731 0.96222213 0.972307   0.98245348 0.98345918\n",
            " 0.9878185  0.97511517 0.94598079 0.92250025]\n",
            "2 day output [[0.90648]]\n",
            "3 day input [0.5680539  0.64134704 0.59931883 0.63972466 0.61977323 0.56565361\n",
            " 0.59240739 0.57426317 0.65729017 0.65526465 0.69822734 0.71712583\n",
            " 0.70375357 0.74380375 0.71406149 0.72174133 0.75732297 0.73294087\n",
            " 0.69186148 0.72162749 0.7209112  0.73938269 0.75918242 0.7520243\n",
            " 0.78813254 0.77528687 0.7365223  0.74222885 0.75441984 0.74492317\n",
            " 0.76046791 0.78352653 0.78371148 0.75521684 0.73144194 0.74685859\n",
            " 0.75217138 0.79496325 0.78027238 0.80335949 0.79240176 0.79569378\n",
            " 0.81292252 0.833965   0.83092915 0.83784534 0.84326248 0.85516417\n",
            " 0.87511098 0.87012071 0.90881881 0.92706262 0.91510406 0.90702097\n",
            " 0.81782268 0.83642226 0.84841406 0.87599797 0.87066143 0.87153904\n",
            " 0.86319028 0.87273443 0.87910504 0.84070099 0.85655876 0.82111945\n",
            " 0.84208133 0.86439992 0.87178572 0.87849784 0.90207819 0.8857603\n",
            " 0.89743895 0.88895273 0.90460181 0.89045641 0.9105218  0.92429719\n",
            " 0.91908399 0.92342908 0.93628899 0.93887897 0.94775895 0.92861378\n",
            " 0.91911237 0.93039263 0.92044534 0.93941968 0.93362304 0.94543463\n",
            " 0.95657731 0.96222213 0.972307   0.98245348 0.98345918 0.9878185\n",
            " 0.97511517 0.94598079 0.92250025 0.90648001]\n",
            "3 day output [[0.8949914]]\n",
            "4 day input [0.64134704 0.59931883 0.63972466 0.61977323 0.56565361 0.59240739\n",
            " 0.57426317 0.65729017 0.65526465 0.69822734 0.71712583 0.70375357\n",
            " 0.74380375 0.71406149 0.72174133 0.75732297 0.73294087 0.69186148\n",
            " 0.72162749 0.7209112  0.73938269 0.75918242 0.7520243  0.78813254\n",
            " 0.77528687 0.7365223  0.74222885 0.75441984 0.74492317 0.76046791\n",
            " 0.78352653 0.78371148 0.75521684 0.73144194 0.74685859 0.75217138\n",
            " 0.79496325 0.78027238 0.80335949 0.79240176 0.79569378 0.81292252\n",
            " 0.833965   0.83092915 0.83784534 0.84326248 0.85516417 0.87511098\n",
            " 0.87012071 0.90881881 0.92706262 0.91510406 0.90702097 0.81782268\n",
            " 0.83642226 0.84841406 0.87599797 0.87066143 0.87153904 0.86319028\n",
            " 0.87273443 0.87910504 0.84070099 0.85655876 0.82111945 0.84208133\n",
            " 0.86439992 0.87178572 0.87849784 0.90207819 0.8857603  0.89743895\n",
            " 0.88895273 0.90460181 0.89045641 0.9105218  0.92429719 0.91908399\n",
            " 0.92342908 0.93628899 0.93887897 0.94775895 0.92861378 0.91911237\n",
            " 0.93039263 0.92044534 0.93941968 0.93362304 0.94543463 0.95657731\n",
            " 0.96222213 0.972307   0.98245348 0.98345918 0.9878185  0.97511517\n",
            " 0.94598079 0.92250025 0.90648001 0.8949914 ]\n",
            "4 day output [[0.88644135]]\n",
            "5 day input [0.59931883 0.63972466 0.61977323 0.56565361 0.59240739 0.57426317\n",
            " 0.65729017 0.65526465 0.69822734 0.71712583 0.70375357 0.74380375\n",
            " 0.71406149 0.72174133 0.75732297 0.73294087 0.69186148 0.72162749\n",
            " 0.7209112  0.73938269 0.75918242 0.7520243  0.78813254 0.77528687\n",
            " 0.7365223  0.74222885 0.75441984 0.74492317 0.76046791 0.78352653\n",
            " 0.78371148 0.75521684 0.73144194 0.74685859 0.75217138 0.79496325\n",
            " 0.78027238 0.80335949 0.79240176 0.79569378 0.81292252 0.833965\n",
            " 0.83092915 0.83784534 0.84326248 0.85516417 0.87511098 0.87012071\n",
            " 0.90881881 0.92706262 0.91510406 0.90702097 0.81782268 0.83642226\n",
            " 0.84841406 0.87599797 0.87066143 0.87153904 0.86319028 0.87273443\n",
            " 0.87910504 0.84070099 0.85655876 0.82111945 0.84208133 0.86439992\n",
            " 0.87178572 0.87849784 0.90207819 0.8857603  0.89743895 0.88895273\n",
            " 0.90460181 0.89045641 0.9105218  0.92429719 0.91908399 0.92342908\n",
            " 0.93628899 0.93887897 0.94775895 0.92861378 0.91911237 0.93039263\n",
            " 0.92044534 0.93941968 0.93362304 0.94543463 0.95657731 0.96222213\n",
            " 0.972307   0.98245348 0.98345918 0.9878185  0.97511517 0.94598079\n",
            " 0.92250025 0.90648001 0.8949914  0.88644135]\n",
            "5 day output [[0.8795624]]\n",
            "6 day input [0.63972466 0.61977323 0.56565361 0.59240739 0.57426317 0.65729017\n",
            " 0.65526465 0.69822734 0.71712583 0.70375357 0.74380375 0.71406149\n",
            " 0.72174133 0.75732297 0.73294087 0.69186148 0.72162749 0.7209112\n",
            " 0.73938269 0.75918242 0.7520243  0.78813254 0.77528687 0.7365223\n",
            " 0.74222885 0.75441984 0.74492317 0.76046791 0.78352653 0.78371148\n",
            " 0.75521684 0.73144194 0.74685859 0.75217138 0.79496325 0.78027238\n",
            " 0.80335949 0.79240176 0.79569378 0.81292252 0.833965   0.83092915\n",
            " 0.83784534 0.84326248 0.85516417 0.87511098 0.87012071 0.90881881\n",
            " 0.92706262 0.91510406 0.90702097 0.81782268 0.83642226 0.84841406\n",
            " 0.87599797 0.87066143 0.87153904 0.86319028 0.87273443 0.87910504\n",
            " 0.84070099 0.85655876 0.82111945 0.84208133 0.86439992 0.87178572\n",
            " 0.87849784 0.90207819 0.8857603  0.89743895 0.88895273 0.90460181\n",
            " 0.89045641 0.9105218  0.92429719 0.91908399 0.92342908 0.93628899\n",
            " 0.93887897 0.94775895 0.92861378 0.91911237 0.93039263 0.92044534\n",
            " 0.93941968 0.93362304 0.94543463 0.95657731 0.96222213 0.972307\n",
            " 0.98245348 0.98345918 0.9878185  0.97511517 0.94598079 0.92250025\n",
            " 0.90648001 0.8949914  0.88644135 0.87956238]\n",
            "6 day output [[0.8737086]]\n",
            "7 day input [0.61977323 0.56565361 0.59240739 0.57426317 0.65729017 0.65526465\n",
            " 0.69822734 0.71712583 0.70375357 0.74380375 0.71406149 0.72174133\n",
            " 0.75732297 0.73294087 0.69186148 0.72162749 0.7209112  0.73938269\n",
            " 0.75918242 0.7520243  0.78813254 0.77528687 0.7365223  0.74222885\n",
            " 0.75441984 0.74492317 0.76046791 0.78352653 0.78371148 0.75521684\n",
            " 0.73144194 0.74685859 0.75217138 0.79496325 0.78027238 0.80335949\n",
            " 0.79240176 0.79569378 0.81292252 0.833965   0.83092915 0.83784534\n",
            " 0.84326248 0.85516417 0.87511098 0.87012071 0.90881881 0.92706262\n",
            " 0.91510406 0.90702097 0.81782268 0.83642226 0.84841406 0.87599797\n",
            " 0.87066143 0.87153904 0.86319028 0.87273443 0.87910504 0.84070099\n",
            " 0.85655876 0.82111945 0.84208133 0.86439992 0.87178572 0.87849784\n",
            " 0.90207819 0.8857603  0.89743895 0.88895273 0.90460181 0.89045641\n",
            " 0.9105218  0.92429719 0.91908399 0.92342908 0.93628899 0.93887897\n",
            " 0.94775895 0.92861378 0.91911237 0.93039263 0.92044534 0.93941968\n",
            " 0.93362304 0.94543463 0.95657731 0.96222213 0.972307   0.98245348\n",
            " 0.98345918 0.9878185  0.97511517 0.94598079 0.92250025 0.90648001\n",
            " 0.8949914  0.88644135 0.87956238 0.87370861]\n",
            "7 day output [[0.868526]]\n",
            "8 day input [0.56565361 0.59240739 0.57426317 0.65729017 0.65526465 0.69822734\n",
            " 0.71712583 0.70375357 0.74380375 0.71406149 0.72174133 0.75732297\n",
            " 0.73294087 0.69186148 0.72162749 0.7209112  0.73938269 0.75918242\n",
            " 0.7520243  0.78813254 0.77528687 0.7365223  0.74222885 0.75441984\n",
            " 0.74492317 0.76046791 0.78352653 0.78371148 0.75521684 0.73144194\n",
            " 0.74685859 0.75217138 0.79496325 0.78027238 0.80335949 0.79240176\n",
            " 0.79569378 0.81292252 0.833965   0.83092915 0.83784534 0.84326248\n",
            " 0.85516417 0.87511098 0.87012071 0.90881881 0.92706262 0.91510406\n",
            " 0.90702097 0.81782268 0.83642226 0.84841406 0.87599797 0.87066143\n",
            " 0.87153904 0.86319028 0.87273443 0.87910504 0.84070099 0.85655876\n",
            " 0.82111945 0.84208133 0.86439992 0.87178572 0.87849784 0.90207819\n",
            " 0.8857603  0.89743895 0.88895273 0.90460181 0.89045641 0.9105218\n",
            " 0.92429719 0.91908399 0.92342908 0.93628899 0.93887897 0.94775895\n",
            " 0.92861378 0.91911237 0.93039263 0.92044534 0.93941968 0.93362304\n",
            " 0.94543463 0.95657731 0.96222213 0.972307   0.98245348 0.98345918\n",
            " 0.9878185  0.97511517 0.94598079 0.92250025 0.90648001 0.8949914\n",
            " 0.88644135 0.87956238 0.87370861 0.86852598]\n",
            "8 day output [[0.8637948]]\n",
            "9 day input [0.59240739 0.57426317 0.65729017 0.65526465 0.69822734 0.71712583\n",
            " 0.70375357 0.74380375 0.71406149 0.72174133 0.75732297 0.73294087\n",
            " 0.69186148 0.72162749 0.7209112  0.73938269 0.75918242 0.7520243\n",
            " 0.78813254 0.77528687 0.7365223  0.74222885 0.75441984 0.74492317\n",
            " 0.76046791 0.78352653 0.78371148 0.75521684 0.73144194 0.74685859\n",
            " 0.75217138 0.79496325 0.78027238 0.80335949 0.79240176 0.79569378\n",
            " 0.81292252 0.833965   0.83092915 0.83784534 0.84326248 0.85516417\n",
            " 0.87511098 0.87012071 0.90881881 0.92706262 0.91510406 0.90702097\n",
            " 0.81782268 0.83642226 0.84841406 0.87599797 0.87066143 0.87153904\n",
            " 0.86319028 0.87273443 0.87910504 0.84070099 0.85655876 0.82111945\n",
            " 0.84208133 0.86439992 0.87178572 0.87849784 0.90207819 0.8857603\n",
            " 0.89743895 0.88895273 0.90460181 0.89045641 0.9105218  0.92429719\n",
            " 0.91908399 0.92342908 0.93628899 0.93887897 0.94775895 0.92861378\n",
            " 0.91911237 0.93039263 0.92044534 0.93941968 0.93362304 0.94543463\n",
            " 0.95657731 0.96222213 0.972307   0.98245348 0.98345918 0.9878185\n",
            " 0.97511517 0.94598079 0.92250025 0.90648001 0.8949914  0.88644135\n",
            " 0.87956238 0.87370861 0.86852598 0.8637948 ]\n",
            "9 day output [[0.8593485]]\n",
            "10 day input [0.57426317 0.65729017 0.65526465 0.69822734 0.71712583 0.70375357\n",
            " 0.74380375 0.71406149 0.72174133 0.75732297 0.73294087 0.69186148\n",
            " 0.72162749 0.7209112  0.73938269 0.75918242 0.7520243  0.78813254\n",
            " 0.77528687 0.7365223  0.74222885 0.75441984 0.74492317 0.76046791\n",
            " 0.78352653 0.78371148 0.75521684 0.73144194 0.74685859 0.75217138\n",
            " 0.79496325 0.78027238 0.80335949 0.79240176 0.79569378 0.81292252\n",
            " 0.833965   0.83092915 0.83784534 0.84326248 0.85516417 0.87511098\n",
            " 0.87012071 0.90881881 0.92706262 0.91510406 0.90702097 0.81782268\n",
            " 0.83642226 0.84841406 0.87599797 0.87066143 0.87153904 0.86319028\n",
            " 0.87273443 0.87910504 0.84070099 0.85655876 0.82111945 0.84208133\n",
            " 0.86439992 0.87178572 0.87849784 0.90207819 0.8857603  0.89743895\n",
            " 0.88895273 0.90460181 0.89045641 0.9105218  0.92429719 0.91908399\n",
            " 0.92342908 0.93628899 0.93887897 0.94775895 0.92861378 0.91911237\n",
            " 0.93039263 0.92044534 0.93941968 0.93362304 0.94543463 0.95657731\n",
            " 0.96222213 0.972307   0.98245348 0.98345918 0.9878185  0.97511517\n",
            " 0.94598079 0.92250025 0.90648001 0.8949914  0.88644135 0.87956238\n",
            " 0.87370861 0.86852598 0.8637948  0.85934848]\n",
            "10 day output [[0.8550524]]\n",
            "11 day input [0.65729017 0.65526465 0.69822734 0.71712583 0.70375357 0.74380375\n",
            " 0.71406149 0.72174133 0.75732297 0.73294087 0.69186148 0.72162749\n",
            " 0.7209112  0.73938269 0.75918242 0.7520243  0.78813254 0.77528687\n",
            " 0.7365223  0.74222885 0.75441984 0.74492317 0.76046791 0.78352653\n",
            " 0.78371148 0.75521684 0.73144194 0.74685859 0.75217138 0.79496325\n",
            " 0.78027238 0.80335949 0.79240176 0.79569378 0.81292252 0.833965\n",
            " 0.83092915 0.83784534 0.84326248 0.85516417 0.87511098 0.87012071\n",
            " 0.90881881 0.92706262 0.91510406 0.90702097 0.81782268 0.83642226\n",
            " 0.84841406 0.87599797 0.87066143 0.87153904 0.86319028 0.87273443\n",
            " 0.87910504 0.84070099 0.85655876 0.82111945 0.84208133 0.86439992\n",
            " 0.87178572 0.87849784 0.90207819 0.8857603  0.89743895 0.88895273\n",
            " 0.90460181 0.89045641 0.9105218  0.92429719 0.91908399 0.92342908\n",
            " 0.93628899 0.93887897 0.94775895 0.92861378 0.91911237 0.93039263\n",
            " 0.92044534 0.93941968 0.93362304 0.94543463 0.95657731 0.96222213\n",
            " 0.972307   0.98245348 0.98345918 0.9878185  0.97511517 0.94598079\n",
            " 0.92250025 0.90648001 0.8949914  0.88644135 0.87956238 0.87370861\n",
            " 0.86852598 0.8637948  0.85934848 0.85505241]\n",
            "11 day output [[0.8508056]]\n",
            "12 day input [0.65526465 0.69822734 0.71712583 0.70375357 0.74380375 0.71406149\n",
            " 0.72174133 0.75732297 0.73294087 0.69186148 0.72162749 0.7209112\n",
            " 0.73938269 0.75918242 0.7520243  0.78813254 0.77528687 0.7365223\n",
            " 0.74222885 0.75441984 0.74492317 0.76046791 0.78352653 0.78371148\n",
            " 0.75521684 0.73144194 0.74685859 0.75217138 0.79496325 0.78027238\n",
            " 0.80335949 0.79240176 0.79569378 0.81292252 0.833965   0.83092915\n",
            " 0.83784534 0.84326248 0.85516417 0.87511098 0.87012071 0.90881881\n",
            " 0.92706262 0.91510406 0.90702097 0.81782268 0.83642226 0.84841406\n",
            " 0.87599797 0.87066143 0.87153904 0.86319028 0.87273443 0.87910504\n",
            " 0.84070099 0.85655876 0.82111945 0.84208133 0.86439992 0.87178572\n",
            " 0.87849784 0.90207819 0.8857603  0.89743895 0.88895273 0.90460181\n",
            " 0.89045641 0.9105218  0.92429719 0.91908399 0.92342908 0.93628899\n",
            " 0.93887897 0.94775895 0.92861378 0.91911237 0.93039263 0.92044534\n",
            " 0.93941968 0.93362304 0.94543463 0.95657731 0.96222213 0.972307\n",
            " 0.98245348 0.98345918 0.9878185  0.97511517 0.94598079 0.92250025\n",
            " 0.90648001 0.8949914  0.88644135 0.87956238 0.87370861 0.86852598\n",
            " 0.8637948  0.85934848 0.85505241 0.85080558]\n",
            "12 day output [[0.8465432]]\n",
            "13 day input [0.69822734 0.71712583 0.70375357 0.74380375 0.71406149 0.72174133\n",
            " 0.75732297 0.73294087 0.69186148 0.72162749 0.7209112  0.73938269\n",
            " 0.75918242 0.7520243  0.78813254 0.77528687 0.7365223  0.74222885\n",
            " 0.75441984 0.74492317 0.76046791 0.78352653 0.78371148 0.75521684\n",
            " 0.73144194 0.74685859 0.75217138 0.79496325 0.78027238 0.80335949\n",
            " 0.79240176 0.79569378 0.81292252 0.833965   0.83092915 0.83784534\n",
            " 0.84326248 0.85516417 0.87511098 0.87012071 0.90881881 0.92706262\n",
            " 0.91510406 0.90702097 0.81782268 0.83642226 0.84841406 0.87599797\n",
            " 0.87066143 0.87153904 0.86319028 0.87273443 0.87910504 0.84070099\n",
            " 0.85655876 0.82111945 0.84208133 0.86439992 0.87178572 0.87849784\n",
            " 0.90207819 0.8857603  0.89743895 0.88895273 0.90460181 0.89045641\n",
            " 0.9105218  0.92429719 0.91908399 0.92342908 0.93628899 0.93887897\n",
            " 0.94775895 0.92861378 0.91911237 0.93039263 0.92044534 0.93941968\n",
            " 0.93362304 0.94543463 0.95657731 0.96222213 0.972307   0.98245348\n",
            " 0.98345918 0.9878185  0.97511517 0.94598079 0.92250025 0.90648001\n",
            " 0.8949914  0.88644135 0.87956238 0.87370861 0.86852598 0.8637948\n",
            " 0.85934848 0.85505241 0.85080558 0.84654319]\n",
            "13 day output [[0.84223616]]\n",
            "14 day input [0.71712583 0.70375357 0.74380375 0.71406149 0.72174133 0.75732297\n",
            " 0.73294087 0.69186148 0.72162749 0.7209112  0.73938269 0.75918242\n",
            " 0.7520243  0.78813254 0.77528687 0.7365223  0.74222885 0.75441984\n",
            " 0.74492317 0.76046791 0.78352653 0.78371148 0.75521684 0.73144194\n",
            " 0.74685859 0.75217138 0.79496325 0.78027238 0.80335949 0.79240176\n",
            " 0.79569378 0.81292252 0.833965   0.83092915 0.83784534 0.84326248\n",
            " 0.85516417 0.87511098 0.87012071 0.90881881 0.92706262 0.91510406\n",
            " 0.90702097 0.81782268 0.83642226 0.84841406 0.87599797 0.87066143\n",
            " 0.87153904 0.86319028 0.87273443 0.87910504 0.84070099 0.85655876\n",
            " 0.82111945 0.84208133 0.86439992 0.87178572 0.87849784 0.90207819\n",
            " 0.8857603  0.89743895 0.88895273 0.90460181 0.89045641 0.9105218\n",
            " 0.92429719 0.91908399 0.92342908 0.93628899 0.93887897 0.94775895\n",
            " 0.92861378 0.91911237 0.93039263 0.92044534 0.93941968 0.93362304\n",
            " 0.94543463 0.95657731 0.96222213 0.972307   0.98245348 0.98345918\n",
            " 0.9878185  0.97511517 0.94598079 0.92250025 0.90648001 0.8949914\n",
            " 0.88644135 0.87956238 0.87370861 0.86852598 0.8637948  0.85934848\n",
            " 0.85505241 0.85080558 0.84654319 0.84223616]\n",
            "14 day output [[0.8378859]]\n",
            "15 day input [0.70375357 0.74380375 0.71406149 0.72174133 0.75732297 0.73294087\n",
            " 0.69186148 0.72162749 0.7209112  0.73938269 0.75918242 0.7520243\n",
            " 0.78813254 0.77528687 0.7365223  0.74222885 0.75441984 0.74492317\n",
            " 0.76046791 0.78352653 0.78371148 0.75521684 0.73144194 0.74685859\n",
            " 0.75217138 0.79496325 0.78027238 0.80335949 0.79240176 0.79569378\n",
            " 0.81292252 0.833965   0.83092915 0.83784534 0.84326248 0.85516417\n",
            " 0.87511098 0.87012071 0.90881881 0.92706262 0.91510406 0.90702097\n",
            " 0.81782268 0.83642226 0.84841406 0.87599797 0.87066143 0.87153904\n",
            " 0.86319028 0.87273443 0.87910504 0.84070099 0.85655876 0.82111945\n",
            " 0.84208133 0.86439992 0.87178572 0.87849784 0.90207819 0.8857603\n",
            " 0.89743895 0.88895273 0.90460181 0.89045641 0.9105218  0.92429719\n",
            " 0.91908399 0.92342908 0.93628899 0.93887897 0.94775895 0.92861378\n",
            " 0.91911237 0.93039263 0.92044534 0.93941968 0.93362304 0.94543463\n",
            " 0.95657731 0.96222213 0.972307   0.98245348 0.98345918 0.9878185\n",
            " 0.97511517 0.94598079 0.92250025 0.90648001 0.8949914  0.88644135\n",
            " 0.87956238 0.87370861 0.86852598 0.8637948  0.85934848 0.85505241\n",
            " 0.85080558 0.84654319 0.84223616 0.83788592]\n",
            "15 day output [[0.83351475]]\n",
            "16 day input [0.74380375 0.71406149 0.72174133 0.75732297 0.73294087 0.69186148\n",
            " 0.72162749 0.7209112  0.73938269 0.75918242 0.7520243  0.78813254\n",
            " 0.77528687 0.7365223  0.74222885 0.75441984 0.74492317 0.76046791\n",
            " 0.78352653 0.78371148 0.75521684 0.73144194 0.74685859 0.75217138\n",
            " 0.79496325 0.78027238 0.80335949 0.79240176 0.79569378 0.81292252\n",
            " 0.833965   0.83092915 0.83784534 0.84326248 0.85516417 0.87511098\n",
            " 0.87012071 0.90881881 0.92706262 0.91510406 0.90702097 0.81782268\n",
            " 0.83642226 0.84841406 0.87599797 0.87066143 0.87153904 0.86319028\n",
            " 0.87273443 0.87910504 0.84070099 0.85655876 0.82111945 0.84208133\n",
            " 0.86439992 0.87178572 0.87849784 0.90207819 0.8857603  0.89743895\n",
            " 0.88895273 0.90460181 0.89045641 0.9105218  0.92429719 0.91908399\n",
            " 0.92342908 0.93628899 0.93887897 0.94775895 0.92861378 0.91911237\n",
            " 0.93039263 0.92044534 0.93941968 0.93362304 0.94543463 0.95657731\n",
            " 0.96222213 0.972307   0.98245348 0.98345918 0.9878185  0.97511517\n",
            " 0.94598079 0.92250025 0.90648001 0.8949914  0.88644135 0.87956238\n",
            " 0.87370861 0.86852598 0.8637948  0.85934848 0.85505241 0.85080558\n",
            " 0.84654319 0.84223616 0.83788592 0.83351475]\n",
            "16 day output [[0.82915676]]\n",
            "17 day input [0.71406149 0.72174133 0.75732297 0.73294087 0.69186148 0.72162749\n",
            " 0.7209112  0.73938269 0.75918242 0.7520243  0.78813254 0.77528687\n",
            " 0.7365223  0.74222885 0.75441984 0.74492317 0.76046791 0.78352653\n",
            " 0.78371148 0.75521684 0.73144194 0.74685859 0.75217138 0.79496325\n",
            " 0.78027238 0.80335949 0.79240176 0.79569378 0.81292252 0.833965\n",
            " 0.83092915 0.83784534 0.84326248 0.85516417 0.87511098 0.87012071\n",
            " 0.90881881 0.92706262 0.91510406 0.90702097 0.81782268 0.83642226\n",
            " 0.84841406 0.87599797 0.87066143 0.87153904 0.86319028 0.87273443\n",
            " 0.87910504 0.84070099 0.85655876 0.82111945 0.84208133 0.86439992\n",
            " 0.87178572 0.87849784 0.90207819 0.8857603  0.89743895 0.88895273\n",
            " 0.90460181 0.89045641 0.9105218  0.92429719 0.91908399 0.92342908\n",
            " 0.93628899 0.93887897 0.94775895 0.92861378 0.91911237 0.93039263\n",
            " 0.92044534 0.93941968 0.93362304 0.94543463 0.95657731 0.96222213\n",
            " 0.972307   0.98245348 0.98345918 0.9878185  0.97511517 0.94598079\n",
            " 0.92250025 0.90648001 0.8949914  0.88644135 0.87956238 0.87370861\n",
            " 0.86852598 0.8637948  0.85934848 0.85505241 0.85080558 0.84654319\n",
            " 0.84223616 0.83788592 0.83351475 0.82915676]\n",
            "17 day output [[0.82485175]]\n",
            "18 day input [0.72174133 0.75732297 0.73294087 0.69186148 0.72162749 0.7209112\n",
            " 0.73938269 0.75918242 0.7520243  0.78813254 0.77528687 0.7365223\n",
            " 0.74222885 0.75441984 0.74492317 0.76046791 0.78352653 0.78371148\n",
            " 0.75521684 0.73144194 0.74685859 0.75217138 0.79496325 0.78027238\n",
            " 0.80335949 0.79240176 0.79569378 0.81292252 0.833965   0.83092915\n",
            " 0.83784534 0.84326248 0.85516417 0.87511098 0.87012071 0.90881881\n",
            " 0.92706262 0.91510406 0.90702097 0.81782268 0.83642226 0.84841406\n",
            " 0.87599797 0.87066143 0.87153904 0.86319028 0.87273443 0.87910504\n",
            " 0.84070099 0.85655876 0.82111945 0.84208133 0.86439992 0.87178572\n",
            " 0.87849784 0.90207819 0.8857603  0.89743895 0.88895273 0.90460181\n",
            " 0.89045641 0.9105218  0.92429719 0.91908399 0.92342908 0.93628899\n",
            " 0.93887897 0.94775895 0.92861378 0.91911237 0.93039263 0.92044534\n",
            " 0.93941968 0.93362304 0.94543463 0.95657731 0.96222213 0.972307\n",
            " 0.98245348 0.98345918 0.9878185  0.97511517 0.94598079 0.92250025\n",
            " 0.90648001 0.8949914  0.88644135 0.87956238 0.87370861 0.86852598\n",
            " 0.8637948  0.85934848 0.85505241 0.85080558 0.84654319 0.84223616\n",
            " 0.83788592 0.83351475 0.82915676 0.82485175]\n",
            "18 day output [[0.8206368]]\n",
            "19 day input [0.75732297 0.73294087 0.69186148 0.72162749 0.7209112  0.73938269\n",
            " 0.75918242 0.7520243  0.78813254 0.77528687 0.7365223  0.74222885\n",
            " 0.75441984 0.74492317 0.76046791 0.78352653 0.78371148 0.75521684\n",
            " 0.73144194 0.74685859 0.75217138 0.79496325 0.78027238 0.80335949\n",
            " 0.79240176 0.79569378 0.81292252 0.833965   0.83092915 0.83784534\n",
            " 0.84326248 0.85516417 0.87511098 0.87012071 0.90881881 0.92706262\n",
            " 0.91510406 0.90702097 0.81782268 0.83642226 0.84841406 0.87599797\n",
            " 0.87066143 0.87153904 0.86319028 0.87273443 0.87910504 0.84070099\n",
            " 0.85655876 0.82111945 0.84208133 0.86439992 0.87178572 0.87849784\n",
            " 0.90207819 0.8857603  0.89743895 0.88895273 0.90460181 0.89045641\n",
            " 0.9105218  0.92429719 0.91908399 0.92342908 0.93628899 0.93887897\n",
            " 0.94775895 0.92861378 0.91911237 0.93039263 0.92044534 0.93941968\n",
            " 0.93362304 0.94543463 0.95657731 0.96222213 0.972307   0.98245348\n",
            " 0.98345918 0.9878185  0.97511517 0.94598079 0.92250025 0.90648001\n",
            " 0.8949914  0.88644135 0.87956238 0.87370861 0.86852598 0.8637948\n",
            " 0.85934848 0.85505241 0.85080558 0.84654319 0.84223616 0.83788592\n",
            " 0.83351475 0.82915676 0.82485175 0.82063681]\n",
            "19 day output [[0.81654423]]\n",
            "20 day input [0.73294087 0.69186148 0.72162749 0.7209112  0.73938269 0.75918242\n",
            " 0.7520243  0.78813254 0.77528687 0.7365223  0.74222885 0.75441984\n",
            " 0.74492317 0.76046791 0.78352653 0.78371148 0.75521684 0.73144194\n",
            " 0.74685859 0.75217138 0.79496325 0.78027238 0.80335949 0.79240176\n",
            " 0.79569378 0.81292252 0.833965   0.83092915 0.83784534 0.84326248\n",
            " 0.85516417 0.87511098 0.87012071 0.90881881 0.92706262 0.91510406\n",
            " 0.90702097 0.81782268 0.83642226 0.84841406 0.87599797 0.87066143\n",
            " 0.87153904 0.86319028 0.87273443 0.87910504 0.84070099 0.85655876\n",
            " 0.82111945 0.84208133 0.86439992 0.87178572 0.87849784 0.90207819\n",
            " 0.8857603  0.89743895 0.88895273 0.90460181 0.89045641 0.9105218\n",
            " 0.92429719 0.91908399 0.92342908 0.93628899 0.93887897 0.94775895\n",
            " 0.92861378 0.91911237 0.93039263 0.92044534 0.93941968 0.93362304\n",
            " 0.94543463 0.95657731 0.96222213 0.972307   0.98245348 0.98345918\n",
            " 0.9878185  0.97511517 0.94598079 0.92250025 0.90648001 0.8949914\n",
            " 0.88644135 0.87956238 0.87370861 0.86852598 0.8637948  0.85934848\n",
            " 0.85505241 0.85080558 0.84654319 0.84223616 0.83788592 0.83351475\n",
            " 0.82915676 0.82485175 0.82063681 0.81654423]\n",
            "20 day output [[0.8125974]]\n",
            "21 day input [0.69186148 0.72162749 0.7209112  0.73938269 0.75918242 0.7520243\n",
            " 0.78813254 0.77528687 0.7365223  0.74222885 0.75441984 0.74492317\n",
            " 0.76046791 0.78352653 0.78371148 0.75521684 0.73144194 0.74685859\n",
            " 0.75217138 0.79496325 0.78027238 0.80335949 0.79240176 0.79569378\n",
            " 0.81292252 0.833965   0.83092915 0.83784534 0.84326248 0.85516417\n",
            " 0.87511098 0.87012071 0.90881881 0.92706262 0.91510406 0.90702097\n",
            " 0.81782268 0.83642226 0.84841406 0.87599797 0.87066143 0.87153904\n",
            " 0.86319028 0.87273443 0.87910504 0.84070099 0.85655876 0.82111945\n",
            " 0.84208133 0.86439992 0.87178572 0.87849784 0.90207819 0.8857603\n",
            " 0.89743895 0.88895273 0.90460181 0.89045641 0.9105218  0.92429719\n",
            " 0.91908399 0.92342908 0.93628899 0.93887897 0.94775895 0.92861378\n",
            " 0.91911237 0.93039263 0.92044534 0.93941968 0.93362304 0.94543463\n",
            " 0.95657731 0.96222213 0.972307   0.98245348 0.98345918 0.9878185\n",
            " 0.97511517 0.94598079 0.92250025 0.90648001 0.8949914  0.88644135\n",
            " 0.87956238 0.87370861 0.86852598 0.8637948  0.85934848 0.85505241\n",
            " 0.85080558 0.84654319 0.84223616 0.83788592 0.83351475 0.82915676\n",
            " 0.82485175 0.82063681 0.81654423 0.81259739]\n",
            "21 day output [[0.8088117]]\n",
            "22 day input [0.72162749 0.7209112  0.73938269 0.75918242 0.7520243  0.78813254\n",
            " 0.77528687 0.7365223  0.74222885 0.75441984 0.74492317 0.76046791\n",
            " 0.78352653 0.78371148 0.75521684 0.73144194 0.74685859 0.75217138\n",
            " 0.79496325 0.78027238 0.80335949 0.79240176 0.79569378 0.81292252\n",
            " 0.833965   0.83092915 0.83784534 0.84326248 0.85516417 0.87511098\n",
            " 0.87012071 0.90881881 0.92706262 0.91510406 0.90702097 0.81782268\n",
            " 0.83642226 0.84841406 0.87599797 0.87066143 0.87153904 0.86319028\n",
            " 0.87273443 0.87910504 0.84070099 0.85655876 0.82111945 0.84208133\n",
            " 0.86439992 0.87178572 0.87849784 0.90207819 0.8857603  0.89743895\n",
            " 0.88895273 0.90460181 0.89045641 0.9105218  0.92429719 0.91908399\n",
            " 0.92342908 0.93628899 0.93887897 0.94775895 0.92861378 0.91911237\n",
            " 0.93039263 0.92044534 0.93941968 0.93362304 0.94543463 0.95657731\n",
            " 0.96222213 0.972307   0.98245348 0.98345918 0.9878185  0.97511517\n",
            " 0.94598079 0.92250025 0.90648001 0.8949914  0.88644135 0.87956238\n",
            " 0.87370861 0.86852598 0.8637948  0.85934848 0.85505241 0.85080558\n",
            " 0.84654319 0.84223616 0.83788592 0.83351475 0.82915676 0.82485175\n",
            " 0.82063681 0.81654423 0.81259739 0.80881172]\n",
            "22 day output [[0.80519444]]\n",
            "23 day input [0.7209112  0.73938269 0.75918242 0.7520243  0.78813254 0.77528687\n",
            " 0.7365223  0.74222885 0.75441984 0.74492317 0.76046791 0.78352653\n",
            " 0.78371148 0.75521684 0.73144194 0.74685859 0.75217138 0.79496325\n",
            " 0.78027238 0.80335949 0.79240176 0.79569378 0.81292252 0.833965\n",
            " 0.83092915 0.83784534 0.84326248 0.85516417 0.87511098 0.87012071\n",
            " 0.90881881 0.92706262 0.91510406 0.90702097 0.81782268 0.83642226\n",
            " 0.84841406 0.87599797 0.87066143 0.87153904 0.86319028 0.87273443\n",
            " 0.87910504 0.84070099 0.85655876 0.82111945 0.84208133 0.86439992\n",
            " 0.87178572 0.87849784 0.90207819 0.8857603  0.89743895 0.88895273\n",
            " 0.90460181 0.89045641 0.9105218  0.92429719 0.91908399 0.92342908\n",
            " 0.93628899 0.93887897 0.94775895 0.92861378 0.91911237 0.93039263\n",
            " 0.92044534 0.93941968 0.93362304 0.94543463 0.95657731 0.96222213\n",
            " 0.972307   0.98245348 0.98345918 0.9878185  0.97511517 0.94598079\n",
            " 0.92250025 0.90648001 0.8949914  0.88644135 0.87956238 0.87370861\n",
            " 0.86852598 0.8637948  0.85934848 0.85505241 0.85080558 0.84654319\n",
            " 0.84223616 0.83788592 0.83351475 0.82915676 0.82485175 0.82063681\n",
            " 0.81654423 0.81259739 0.80881172 0.80519444]\n",
            "23 day output [[0.80174416]]\n",
            "24 day input [0.73938269 0.75918242 0.7520243  0.78813254 0.77528687 0.7365223\n",
            " 0.74222885 0.75441984 0.74492317 0.76046791 0.78352653 0.78371148\n",
            " 0.75521684 0.73144194 0.74685859 0.75217138 0.79496325 0.78027238\n",
            " 0.80335949 0.79240176 0.79569378 0.81292252 0.833965   0.83092915\n",
            " 0.83784534 0.84326248 0.85516417 0.87511098 0.87012071 0.90881881\n",
            " 0.92706262 0.91510406 0.90702097 0.81782268 0.83642226 0.84841406\n",
            " 0.87599797 0.87066143 0.87153904 0.86319028 0.87273443 0.87910504\n",
            " 0.84070099 0.85655876 0.82111945 0.84208133 0.86439992 0.87178572\n",
            " 0.87849784 0.90207819 0.8857603  0.89743895 0.88895273 0.90460181\n",
            " 0.89045641 0.9105218  0.92429719 0.91908399 0.92342908 0.93628899\n",
            " 0.93887897 0.94775895 0.92861378 0.91911237 0.93039263 0.92044534\n",
            " 0.93941968 0.93362304 0.94543463 0.95657731 0.96222213 0.972307\n",
            " 0.98245348 0.98345918 0.9878185  0.97511517 0.94598079 0.92250025\n",
            " 0.90648001 0.8949914  0.88644135 0.87956238 0.87370861 0.86852598\n",
            " 0.8637948  0.85934848 0.85505241 0.85080558 0.84654319 0.84223616\n",
            " 0.83788592 0.83351475 0.82915676 0.82485175 0.82063681 0.81654423\n",
            " 0.81259739 0.80881172 0.80519444 0.80174416]\n",
            "24 day output [[0.7984551]]\n",
            "25 day input [0.75918242 0.7520243  0.78813254 0.77528687 0.7365223  0.74222885\n",
            " 0.75441984 0.74492317 0.76046791 0.78352653 0.78371148 0.75521684\n",
            " 0.73144194 0.74685859 0.75217138 0.79496325 0.78027238 0.80335949\n",
            " 0.79240176 0.79569378 0.81292252 0.833965   0.83092915 0.83784534\n",
            " 0.84326248 0.85516417 0.87511098 0.87012071 0.90881881 0.92706262\n",
            " 0.91510406 0.90702097 0.81782268 0.83642226 0.84841406 0.87599797\n",
            " 0.87066143 0.87153904 0.86319028 0.87273443 0.87910504 0.84070099\n",
            " 0.85655876 0.82111945 0.84208133 0.86439992 0.87178572 0.87849784\n",
            " 0.90207819 0.8857603  0.89743895 0.88895273 0.90460181 0.89045641\n",
            " 0.9105218  0.92429719 0.91908399 0.92342908 0.93628899 0.93887897\n",
            " 0.94775895 0.92861378 0.91911237 0.93039263 0.92044534 0.93941968\n",
            " 0.93362304 0.94543463 0.95657731 0.96222213 0.972307   0.98245348\n",
            " 0.98345918 0.9878185  0.97511517 0.94598079 0.92250025 0.90648001\n",
            " 0.8949914  0.88644135 0.87956238 0.87370861 0.86852598 0.8637948\n",
            " 0.85934848 0.85505241 0.85080558 0.84654319 0.84223616 0.83788592\n",
            " 0.83351475 0.82915676 0.82485175 0.82063681 0.81654423 0.81259739\n",
            " 0.80881172 0.80519444 0.80174416 0.79845512]\n",
            "25 day output [[0.7953159]]\n",
            "26 day input [0.7520243  0.78813254 0.77528687 0.7365223  0.74222885 0.75441984\n",
            " 0.74492317 0.76046791 0.78352653 0.78371148 0.75521684 0.73144194\n",
            " 0.74685859 0.75217138 0.79496325 0.78027238 0.80335949 0.79240176\n",
            " 0.79569378 0.81292252 0.833965   0.83092915 0.83784534 0.84326248\n",
            " 0.85516417 0.87511098 0.87012071 0.90881881 0.92706262 0.91510406\n",
            " 0.90702097 0.81782268 0.83642226 0.84841406 0.87599797 0.87066143\n",
            " 0.87153904 0.86319028 0.87273443 0.87910504 0.84070099 0.85655876\n",
            " 0.82111945 0.84208133 0.86439992 0.87178572 0.87849784 0.90207819\n",
            " 0.8857603  0.89743895 0.88895273 0.90460181 0.89045641 0.9105218\n",
            " 0.92429719 0.91908399 0.92342908 0.93628899 0.93887897 0.94775895\n",
            " 0.92861378 0.91911237 0.93039263 0.92044534 0.93941968 0.93362304\n",
            " 0.94543463 0.95657731 0.96222213 0.972307   0.98245348 0.98345918\n",
            " 0.9878185  0.97511517 0.94598079 0.92250025 0.90648001 0.8949914\n",
            " 0.88644135 0.87956238 0.87370861 0.86852598 0.8637948  0.85934848\n",
            " 0.85505241 0.85080558 0.84654319 0.84223616 0.83788592 0.83351475\n",
            " 0.82915676 0.82485175 0.82063681 0.81654423 0.81259739 0.80881172\n",
            " 0.80519444 0.80174416 0.79845512 0.79531592]\n",
            "26 day output [[0.7923137]]\n",
            "27 day input [0.78813254 0.77528687 0.7365223  0.74222885 0.75441984 0.74492317\n",
            " 0.76046791 0.78352653 0.78371148 0.75521684 0.73144194 0.74685859\n",
            " 0.75217138 0.79496325 0.78027238 0.80335949 0.79240176 0.79569378\n",
            " 0.81292252 0.833965   0.83092915 0.83784534 0.84326248 0.85516417\n",
            " 0.87511098 0.87012071 0.90881881 0.92706262 0.91510406 0.90702097\n",
            " 0.81782268 0.83642226 0.84841406 0.87599797 0.87066143 0.87153904\n",
            " 0.86319028 0.87273443 0.87910504 0.84070099 0.85655876 0.82111945\n",
            " 0.84208133 0.86439992 0.87178572 0.87849784 0.90207819 0.8857603\n",
            " 0.89743895 0.88895273 0.90460181 0.89045641 0.9105218  0.92429719\n",
            " 0.91908399 0.92342908 0.93628899 0.93887897 0.94775895 0.92861378\n",
            " 0.91911237 0.93039263 0.92044534 0.93941968 0.93362304 0.94543463\n",
            " 0.95657731 0.96222213 0.972307   0.98245348 0.98345918 0.9878185\n",
            " 0.97511517 0.94598079 0.92250025 0.90648001 0.8949914  0.88644135\n",
            " 0.87956238 0.87370861 0.86852598 0.8637948  0.85934848 0.85505241\n",
            " 0.85080558 0.84654319 0.84223616 0.83788592 0.83351475 0.82915676\n",
            " 0.82485175 0.82063681 0.81654423 0.81259739 0.80881172 0.80519444\n",
            " 0.80174416 0.79845512 0.79531592 0.79231369]\n",
            "27 day output [[0.78943366]]\n",
            "28 day input [0.77528687 0.7365223  0.74222885 0.75441984 0.74492317 0.76046791\n",
            " 0.78352653 0.78371148 0.75521684 0.73144194 0.74685859 0.75217138\n",
            " 0.79496325 0.78027238 0.80335949 0.79240176 0.79569378 0.81292252\n",
            " 0.833965   0.83092915 0.83784534 0.84326248 0.85516417 0.87511098\n",
            " 0.87012071 0.90881881 0.92706262 0.91510406 0.90702097 0.81782268\n",
            " 0.83642226 0.84841406 0.87599797 0.87066143 0.87153904 0.86319028\n",
            " 0.87273443 0.87910504 0.84070099 0.85655876 0.82111945 0.84208133\n",
            " 0.86439992 0.87178572 0.87849784 0.90207819 0.8857603  0.89743895\n",
            " 0.88895273 0.90460181 0.89045641 0.9105218  0.92429719 0.91908399\n",
            " 0.92342908 0.93628899 0.93887897 0.94775895 0.92861378 0.91911237\n",
            " 0.93039263 0.92044534 0.93941968 0.93362304 0.94543463 0.95657731\n",
            " 0.96222213 0.972307   0.98245348 0.98345918 0.9878185  0.97511517\n",
            " 0.94598079 0.92250025 0.90648001 0.8949914  0.88644135 0.87956238\n",
            " 0.87370861 0.86852598 0.8637948  0.85934848 0.85505241 0.85080558\n",
            " 0.84654319 0.84223616 0.83788592 0.83351475 0.82915676 0.82485175\n",
            " 0.82063681 0.81654423 0.81259739 0.80881172 0.80519444 0.80174416\n",
            " 0.79845512 0.79531592 0.79231369 0.78943366]\n",
            "28 day output [[0.7866603]]\n",
            "29 day input [0.7365223  0.74222885 0.75441984 0.74492317 0.76046791 0.78352653\n",
            " 0.78371148 0.75521684 0.73144194 0.74685859 0.75217138 0.79496325\n",
            " 0.78027238 0.80335949 0.79240176 0.79569378 0.81292252 0.833965\n",
            " 0.83092915 0.83784534 0.84326248 0.85516417 0.87511098 0.87012071\n",
            " 0.90881881 0.92706262 0.91510406 0.90702097 0.81782268 0.83642226\n",
            " 0.84841406 0.87599797 0.87066143 0.87153904 0.86319028 0.87273443\n",
            " 0.87910504 0.84070099 0.85655876 0.82111945 0.84208133 0.86439992\n",
            " 0.87178572 0.87849784 0.90207819 0.8857603  0.89743895 0.88895273\n",
            " 0.90460181 0.89045641 0.9105218  0.92429719 0.91908399 0.92342908\n",
            " 0.93628899 0.93887897 0.94775895 0.92861378 0.91911237 0.93039263\n",
            " 0.92044534 0.93941968 0.93362304 0.94543463 0.95657731 0.96222213\n",
            " 0.972307   0.98245348 0.98345918 0.9878185  0.97511517 0.94598079\n",
            " 0.92250025 0.90648001 0.8949914  0.88644135 0.87956238 0.87370861\n",
            " 0.86852598 0.8637948  0.85934848 0.85505241 0.85080558 0.84654319\n",
            " 0.84223616 0.83788592 0.83351475 0.82915676 0.82485175 0.82063681\n",
            " 0.81654423 0.81259739 0.80881172 0.80519444 0.80174416 0.79845512\n",
            " 0.79531592 0.79231369 0.78943366 0.78666031]\n",
            "29 day output [[0.7839809]]\n",
            "[[0.9459807872772217], [0.9225002527236938], [0.9064800143241882], [0.894991397857666], [0.8864413499832153], [0.8795623779296875], [0.8737086057662964], [0.8685259819030762], [0.8637948036193848], [0.859348475933075], [0.8550524115562439], [0.8508055806159973], [0.8465431928634644], [0.8422361612319946], [0.8378859162330627], [0.8335147500038147], [0.829156756401062], [0.8248517513275146], [0.8206368088722229], [0.816544234752655], [0.812597393989563], [0.8088117241859436], [0.8051944375038147], [0.8017441630363464], [0.7984551191329956], [0.7953159213066101], [0.7923136949539185], [0.7894336581230164], [0.7866603136062622], [0.7839809060096741]]\n"
          ]
        }
      ]
    },
    {
      "cell_type": "code",
      "source": [
        "day_new=np.arange(1,101)\n",
        "day_pred=np.arange(101,131)"
      ],
      "metadata": {
        "id": "0v59iU7YHC-w"
      },
      "execution_count": null,
      "outputs": []
    },
    {
      "cell_type": "code",
      "source": [
        "len(df1)-100"
      ],
      "metadata": {
        "colab": {
          "base_uri": "https://localhost:8080/"
        },
        "id": "7IVC-tgHHG_w",
        "outputId": "57c198f5-8387-4839-a316-acf531923fd7"
      },
      "execution_count": null,
      "outputs": [
        {
          "output_type": "execute_result",
          "data": {
            "text/plain": [
              "2059"
            ]
          },
          "metadata": {},
          "execution_count": 128
        }
      ]
    },
    {
      "cell_type": "code",
      "source": [
        "plt.plot(day_new,scaler.inverse_transform(df1[2059:]) , color=\"green\")\n",
        "plt.plot(day_pred,scaler.inverse_transform(lst_output) , color = \"orange\")"
      ],
      "metadata": {
        "colab": {
          "base_uri": "https://localhost:8080/",
          "height": 283
        },
        "id": "lwiXZpaOHM-v",
        "outputId": "ab91b193-e273-483c-9ed5-92cf774627a2"
      },
      "execution_count": null,
      "outputs": [
        {
          "output_type": "execute_result",
          "data": {
            "text/plain": [
              "[<matplotlib.lines.Line2D at 0x7ff522325150>]"
            ]
          },
          "metadata": {},
          "execution_count": 129
        },
        {
          "output_type": "execute_result",
          "data": {
            "text/plain": [
              "[<matplotlib.lines.Line2D at 0x7ff52224c3d0>]"
            ]
          },
          "metadata": {},
          "execution_count": 129
        },
        {
          "output_type": "display_data",
          "data": {
            "text/plain": [
              "<Figure size 432x288 with 1 Axes>"
            ],
            "image/png": "[encoded data removed]"
          },
          "metadata": {
            "needs_background": "light"
          }
        }
      ]
    },
    {
      "cell_type": "code",
      "source": [
        "df3=df1.tolist()\n",
        "df3.extend(lst_output)\n",
        "plt.plot(df3[2000:])"
      ],
      "metadata": {
        "colab": {
          "base_uri": "https://localhost:8080/",
          "height": 282
        },
        "id": "FMnOgzpALWsj",
        "outputId": "f52b79ea-9830-487b-f818-29f999a67c22"
      },
      "execution_count": null,
      "outputs": [
        {
          "output_type": "execute_result",
          "data": {
            "text/plain": [
              "[<matplotlib.lines.Line2D at 0x7ff52230db50>]"
            ]
          },
          "metadata": {},
          "execution_count": 130
        },
        {
          "output_type": "display_data",
          "data": {
            "text/plain": [
              "<Figure size 432x288 with 1 Axes>"
            ],
            "image/png": "[encoded data removed]"
          },
          "metadata": {
            "needs_background": "light"
          }
        }
      ]
    }
  ]
}